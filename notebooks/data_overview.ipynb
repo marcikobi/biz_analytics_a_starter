{
 "cells": [
  {
   "cell_type": "markdown",
   "source": [
    "# Session 3: Von Pandas und Planeten\n",
    "\n",
    "Florian Roscheck, 2022-04-24\n",
    "\n",
    "Notebook zur Veranstaltung Business Analytics A im [Masterstudiengang Business Analytics](https://wiwi.hs-duesseldorf.de/en/student-affairs/study-programmes/master-business-analytics) an der Hochschule Düsseldorf.\n",
    "\n",
    "Datenquelle:\n",
    "European Commission, Brussels (2016). Flash Eurobarometer 425 (Food Waste and Date Marking). *GESIS Data Archive, Cologne. ZA6647 Data file Version 1.0.0, https://doi.org/10.4232/1.12515.*\n",
    "\n"
   ],
   "metadata": {
    "collapsed": false,
    "pycharm": {
     "name": "#%% md\n"
    }
   }
  },
  {
   "cell_type": "code",
   "execution_count": 17,
   "metadata": {
    "collapsed": true,
    "pycharm": {
     "name": "#%%\n"
    }
   },
   "outputs": [],
   "source": [
    "import pandas as pd"
   ]
  },
  {
   "cell_type": "code",
   "execution_count": 18,
   "outputs": [],
   "source": [
    "data = pd.read_stata('../data/external/ZA6647_v1-0-0.dta')"
   ],
   "metadata": {
    "collapsed": false,
    "pycharm": {
     "name": "#%%\n"
    }
   }
  },
  {
   "cell_type": "code",
   "execution_count": 19,
   "outputs": [
    {
     "data": {
      "text/plain": "               studyno                  doi             version  \\\n0  GESIS STUDY ID 6647  doi:10.4232/1.12515  1.0.0 (2016-04-21)   \n1  GESIS STUDY ID 6647  doi:10.4232/1.12515  1.0.0 (2016-04-21)   \n2  GESIS STUDY ID 6647  doi:10.4232/1.12515  1.0.0 (2016-04-21)   \n3  GESIS STUDY ID 6647  doi:10.4232/1.12515  1.0.0 (2016-04-21)   \n4  GESIS STUDY ID 6647  doi:10.4232/1.12515  1.0.0 (2016-04-21)   \n\n           edition                                    survey  caseid   uniqid  \\\n0  ARCHIVE RELEASE  Flash Eurobarometer 425 (September 2015)       1  1000001   \n1  ARCHIVE RELEASE  Flash Eurobarometer 425 (September 2015)       2  1000002   \n2  ARCHIVE RELEASE  Flash Eurobarometer 425 (September 2015)       3  1000003   \n3  ARCHIVE RELEASE  Flash Eurobarometer 425 (September 2015)       4  1000004   \n4  ARCHIVE RELEASE  Flash Eurobarometer 425 (September 2015)       5  1000005   \n\n   tnscntry       country isocntry  ...  w82  w84       w89  w90       w95  \\\n0  BELGIQUE  BE - Belgium       BE  ...  0.0  0.0  0.377414  0.0  0.399552   \n1  BELGIQUE  BE - Belgium       BE  ...  0.0  0.0  0.398224  0.0  0.421584   \n2  BELGIQUE  BE - Belgium       BE  ...  0.0  0.0  0.203295  0.0  0.215220   \n3  BELGIQUE  BE - Belgium       BE  ...  0.0  0.0  0.313204  0.0  0.331576   \n4  BELGIQUE  BE - Belgium       BE  ...  0.0  0.0  0.384786  0.0  0.407357   \n\n   w96       w97  w83  w98          wex  \n0  0.0  0.419225  0.0  0.0  6446.127930  \n1  0.0  0.442341  0.0  0.0  6801.566895  \n2  0.0  0.225817  0.0  0.0  3472.228516  \n3  0.0  0.347902  0.0  0.0  5349.446777  \n4  0.0  0.427415  0.0  0.0  6572.049805  \n\n[5 rows x 165 columns]",
      "text/html": "<div>\n<style scoped>\n    .dataframe tbody tr th:only-of-type {\n        vertical-align: middle;\n    }\n\n    .dataframe tbody tr th {\n        vertical-align: top;\n    }\n\n    .dataframe thead th {\n        text-align: right;\n    }\n</style>\n<table border=\"1\" class=\"dataframe\">\n  <thead>\n    <tr style=\"text-align: right;\">\n      <th></th>\n      <th>studyno</th>\n      <th>doi</th>\n      <th>version</th>\n      <th>edition</th>\n      <th>survey</th>\n      <th>caseid</th>\n      <th>uniqid</th>\n      <th>tnscntry</th>\n      <th>country</th>\n      <th>isocntry</th>\n      <th>...</th>\n      <th>w82</th>\n      <th>w84</th>\n      <th>w89</th>\n      <th>w90</th>\n      <th>w95</th>\n      <th>w96</th>\n      <th>w97</th>\n      <th>w83</th>\n      <th>w98</th>\n      <th>wex</th>\n    </tr>\n  </thead>\n  <tbody>\n    <tr>\n      <th>0</th>\n      <td>GESIS STUDY ID 6647</td>\n      <td>doi:10.4232/1.12515</td>\n      <td>1.0.0 (2016-04-21)</td>\n      <td>ARCHIVE RELEASE</td>\n      <td>Flash Eurobarometer 425 (September 2015)</td>\n      <td>1</td>\n      <td>1000001</td>\n      <td>BELGIQUE</td>\n      <td>BE - Belgium</td>\n      <td>BE</td>\n      <td>...</td>\n      <td>0.0</td>\n      <td>0.0</td>\n      <td>0.377414</td>\n      <td>0.0</td>\n      <td>0.399552</td>\n      <td>0.0</td>\n      <td>0.419225</td>\n      <td>0.0</td>\n      <td>0.0</td>\n      <td>6446.127930</td>\n    </tr>\n    <tr>\n      <th>1</th>\n      <td>GESIS STUDY ID 6647</td>\n      <td>doi:10.4232/1.12515</td>\n      <td>1.0.0 (2016-04-21)</td>\n      <td>ARCHIVE RELEASE</td>\n      <td>Flash Eurobarometer 425 (September 2015)</td>\n      <td>2</td>\n      <td>1000002</td>\n      <td>BELGIQUE</td>\n      <td>BE - Belgium</td>\n      <td>BE</td>\n      <td>...</td>\n      <td>0.0</td>\n      <td>0.0</td>\n      <td>0.398224</td>\n      <td>0.0</td>\n      <td>0.421584</td>\n      <td>0.0</td>\n      <td>0.442341</td>\n      <td>0.0</td>\n      <td>0.0</td>\n      <td>6801.566895</td>\n    </tr>\n    <tr>\n      <th>2</th>\n      <td>GESIS STUDY ID 6647</td>\n      <td>doi:10.4232/1.12515</td>\n      <td>1.0.0 (2016-04-21)</td>\n      <td>ARCHIVE RELEASE</td>\n      <td>Flash Eurobarometer 425 (September 2015)</td>\n      <td>3</td>\n      <td>1000003</td>\n      <td>BELGIQUE</td>\n      <td>BE - Belgium</td>\n      <td>BE</td>\n      <td>...</td>\n      <td>0.0</td>\n      <td>0.0</td>\n      <td>0.203295</td>\n      <td>0.0</td>\n      <td>0.215220</td>\n      <td>0.0</td>\n      <td>0.225817</td>\n      <td>0.0</td>\n      <td>0.0</td>\n      <td>3472.228516</td>\n    </tr>\n    <tr>\n      <th>3</th>\n      <td>GESIS STUDY ID 6647</td>\n      <td>doi:10.4232/1.12515</td>\n      <td>1.0.0 (2016-04-21)</td>\n      <td>ARCHIVE RELEASE</td>\n      <td>Flash Eurobarometer 425 (September 2015)</td>\n      <td>4</td>\n      <td>1000004</td>\n      <td>BELGIQUE</td>\n      <td>BE - Belgium</td>\n      <td>BE</td>\n      <td>...</td>\n      <td>0.0</td>\n      <td>0.0</td>\n      <td>0.313204</td>\n      <td>0.0</td>\n      <td>0.331576</td>\n      <td>0.0</td>\n      <td>0.347902</td>\n      <td>0.0</td>\n      <td>0.0</td>\n      <td>5349.446777</td>\n    </tr>\n    <tr>\n      <th>4</th>\n      <td>GESIS STUDY ID 6647</td>\n      <td>doi:10.4232/1.12515</td>\n      <td>1.0.0 (2016-04-21)</td>\n      <td>ARCHIVE RELEASE</td>\n      <td>Flash Eurobarometer 425 (September 2015)</td>\n      <td>5</td>\n      <td>1000005</td>\n      <td>BELGIQUE</td>\n      <td>BE - Belgium</td>\n      <td>BE</td>\n      <td>...</td>\n      <td>0.0</td>\n      <td>0.0</td>\n      <td>0.384786</td>\n      <td>0.0</td>\n      <td>0.407357</td>\n      <td>0.0</td>\n      <td>0.427415</td>\n      <td>0.0</td>\n      <td>0.0</td>\n      <td>6572.049805</td>\n    </tr>\n  </tbody>\n</table>\n<p>5 rows × 165 columns</p>\n</div>"
     },
     "execution_count": 19,
     "metadata": {},
     "output_type": "execute_result"
    }
   ],
   "source": [
    "data.head()"
   ],
   "metadata": {
    "collapsed": false,
    "pycharm": {
     "name": "#%%\n"
    }
   }
  },
  {
   "cell_type": "code",
   "execution_count": 20,
   "outputs": [
    {
     "data": {
      "text/plain": "Int64Index([    0,     1,     2,     3,     4,     5,     6,     7,     8,\n                9,\n            ...\n            26591, 26592, 26593, 26594, 26595, 26596, 26597, 26598, 26599,\n            26600],\n           dtype='int64', length=26601)"
     },
     "execution_count": 20,
     "metadata": {},
     "output_type": "execute_result"
    }
   ],
   "source": [
    "# Index auslesen\n",
    "data.index"
   ],
   "metadata": {
    "collapsed": false,
    "pycharm": {
     "name": "#%%\n"
    }
   }
  },
  {
   "cell_type": "code",
   "execution_count": 21,
   "outputs": [
    {
     "data": {
      "text/plain": "Index(['studyno', 'doi', 'version', 'edition', 'survey', 'caseid', 'uniqid',\n       'tnscntry', 'country', 'isocntry',\n       ...\n       'w82', 'w84', 'w89', 'w90', 'w95', 'w96', 'w97', 'w83', 'w98', 'wex'],\n      dtype='object', length=165)"
     },
     "execution_count": 21,
     "metadata": {},
     "output_type": "execute_result"
    }
   ],
   "source": [
    "# Spalten auslesen\n",
    "data.columns"
   ],
   "metadata": {
    "collapsed": false,
    "pycharm": {
     "name": "#%%\n"
    }
   }
  },
  {
   "cell_type": "code",
   "execution_count": 22,
   "outputs": [
    {
     "data": {
      "text/plain": "['studyno',\n 'doi',\n 'version',\n 'edition',\n 'survey',\n 'caseid',\n 'uniqid',\n 'tnscntry',\n 'country',\n 'isocntry',\n 'mode',\n 'q1_1',\n 'q1_2',\n 'q1_3',\n 'q1_4',\n 'q1_5',\n 'q1_6',\n 'q1_7',\n 'q2_1',\n 'q2_2',\n 'q2_3',\n 'q2_4',\n 'q2_5',\n 'q2_6',\n 'q2_7',\n 'q2_8',\n 'q3',\n 'q4',\n 'q5',\n 'q6',\n 'q7',\n 'q8',\n 'd1',\n 'd1r1',\n 'd1r2',\n 'd2',\n 'd3a_1',\n 'd3a_2',\n 'd3a_3',\n 'd3a_4',\n 'd3a_5',\n 'd3a_6',\n 'd3a_7',\n 'd3a_8',\n 'd3a_9',\n 'd3a_10',\n 'd3a_11',\n 'd3a_12',\n 'd3a_13',\n 'd3a_14',\n 'd3a_15',\n 'd3a_16',\n 'd3a_17',\n 'd3a_18',\n 'd3a_19',\n 'd3a_20',\n 'd3a_21',\n 'd3a_22',\n 'd3a_23',\n 'd3a_24',\n 'd3a_25',\n 'd3a_26',\n 'd3a_27',\n 'd3a_28',\n 'd3a_98',\n 'd3a_99',\n 'd3b',\n 'd4',\n 'd4r1',\n 'd4r2',\n 'd5',\n 'd5r',\n 'd13',\n 'd18',\n 'd20',\n 'd18_d20',\n 'd22',\n 'd22r',\n 'd12be',\n 'd12be_r',\n 'd12at',\n 'd12at_r',\n 'd12bg',\n 'd12cy',\n 'd12cz',\n 'd12dk',\n 'd12ee',\n 'd12de',\n 'd12gr',\n 'd12gr_r',\n 'd12es',\n 'd12es_r',\n 'd12fi',\n 'd12fr',\n 'd12fr_r',\n 'd12gb',\n 'd12hu',\n 'd12ie',\n 'd12it',\n 'd12it_r',\n 'd12lt',\n 'd12lu',\n 'd12lv',\n 'd12nl',\n 'd12nl_r',\n 'd12pl',\n 'd12pl_r',\n 'd12pt',\n 'd12ro',\n 'd12se',\n 'd12si',\n 'd12sk',\n 'd12mt',\n 'd12hr',\n 'eu6',\n 'eu9',\n 'eu10',\n 'eu12_2',\n 'eu_nms3',\n 'eu15',\n 'eu_nms10',\n 'eu25',\n 'eu_nms12',\n 'eu27',\n 'eu_nms13',\n 'eu28',\n 'euroz13',\n 'euroz15',\n 'euronz15',\n 'euroz16',\n 'euronz16',\n 'euroz17',\n 'euronz17',\n 'euroz18',\n 'euronz18',\n 'euronzms',\n 'euronznm',\n 'euroz19',\n 'euronz19',\n 'w1',\n 'w5',\n 'w6',\n 'w7',\n 'w9',\n 'w10',\n 'w11',\n 'w13',\n 'w14',\n 'w24',\n 'w22',\n 'w94',\n 'w23',\n 'w29',\n 'w30',\n 'w81',\n 'w82',\n 'w84',\n 'w89',\n 'w90',\n 'w95',\n 'w96',\n 'w97',\n 'w83',\n 'w98',\n 'wex']"
     },
     "execution_count": 22,
     "metadata": {},
     "output_type": "execute_result"
    }
   ],
   "source": [
    "# Spalten auslesen (bessere Lesbarkeit)\n",
    "list(data.columns)"
   ],
   "metadata": {
    "collapsed": false,
    "pycharm": {
     "name": "#%%\n"
    }
   }
  },
  {
   "cell_type": "code",
   "execution_count": 23,
   "outputs": [
    {
     "data": {
      "text/plain": "'BE - Belgium'"
     },
     "execution_count": 23,
     "metadata": {},
     "output_type": "execute_result"
    }
   ],
   "source": [
    "# Bestimmten Wert auslesen\n",
    "data.loc[2, 'country']"
   ],
   "metadata": {
    "collapsed": false,
    "pycharm": {
     "name": "#%%\n"
    }
   }
  },
  {
   "cell_type": "code",
   "execution_count": 24,
   "outputs": [
    {
     "data": {
      "text/plain": "'BE - Belgium'"
     },
     "execution_count": 24,
     "metadata": {},
     "output_type": "execute_result"
    }
   ],
   "source": [
    "# Bestimmten Wert mit numerischer Notation auslesen\n",
    "data.iloc[2, 8]"
   ],
   "metadata": {
    "collapsed": false,
    "pycharm": {
     "name": "#%%\n"
    }
   }
  },
  {
   "cell_type": "code",
   "execution_count": 25,
   "outputs": [
    {
     "data": {
      "text/plain": "studyno    category\ndoi          object\nversion      object\nedition    category\nsurvey     category\n             ...   \nw96         float64\nw97         float64\nw83         float64\nw98         float64\nwex         float64\nLength: 165, dtype: object"
     },
     "execution_count": 25,
     "metadata": {},
     "output_type": "execute_result"
    }
   ],
   "source": [
    "# Datentypen der Spalten auslesen\n",
    "data.dtypes"
   ],
   "metadata": {
    "collapsed": false,
    "pycharm": {
     "name": "#%%\n"
    }
   }
  },
  {
   "cell_type": "code",
   "execution_count": 26,
   "outputs": [
    {
     "data": {
      "text/plain": "                   studyno                  doi             version  \\\n8081   GESIS STUDY ID 6647  doi:10.4232/1.12515  1.0.0 (2016-04-21)   \n814    GESIS STUDY ID 6647  doi:10.4232/1.12515  1.0.0 (2016-04-21)   \n24028  GESIS STUDY ID 6647  doi:10.4232/1.12515  1.0.0 (2016-04-21)   \n10724  GESIS STUDY ID 6647  doi:10.4232/1.12515  1.0.0 (2016-04-21)   \n24251  GESIS STUDY ID 6647  doi:10.4232/1.12515  1.0.0 (2016-04-21)   \n\n               edition                                    survey  caseid  \\\n8081   ARCHIVE RELEASE  Flash Eurobarometer 425 (September 2015)    8082   \n814    ARCHIVE RELEASE  Flash Eurobarometer 425 (September 2015)     815   \n24028  ARCHIVE RELEASE  Flash Eurobarometer 425 (September 2015)   24029   \n10724  ARCHIVE RELEASE  Flash Eurobarometer 425 (September 2015)   10725   \n24251  ARCHIVE RELEASE  Flash Eurobarometer 425 (September 2015)   24252   \n\n         uniqid            tnscntry          country isocntry  ...  w82  w84  \\\n8081   10008082          LUXEMBOURG  LU - Luxembourg       LU  ...  0.0  0.0   \n814     1000815            BELGIQUE     BE - Belgium       BE  ...  0.0  0.0   \n24028  41024029  SLOVENSKA REPUBLIC    SK - Slovakia       SK  ...  0.0  0.0   \n10724  13010725            PORTUGAL    PT - Portugal       PT  ...  0.0  0.0   \n24251  41024252  SLOVENSKA REPUBLIC    SK - Slovakia       SK  ...  0.0  0.0   \n\n            w89  w90       w95  w96       w97  w83  w98           wex  \n8081   0.017799  0.0  0.018843  0.0  0.019771  0.0  0.0    304.000641  \n814    0.273204  0.0  0.289230  0.0  0.303471  0.0  0.0   4666.253418  \n24028  0.674843  0.0  0.714429  0.0  0.749606  0.0  0.0  11526.148438  \n10724  0.290865  0.0  0.307926  0.0  0.323088  0.0  0.0   4967.893066  \n24251  0.211204  0.0  0.223594  0.0  0.234603  0.0  0.0   3607.318115  \n\n[5 rows x 165 columns]",
      "text/html": "<div>\n<style scoped>\n    .dataframe tbody tr th:only-of-type {\n        vertical-align: middle;\n    }\n\n    .dataframe tbody tr th {\n        vertical-align: top;\n    }\n\n    .dataframe thead th {\n        text-align: right;\n    }\n</style>\n<table border=\"1\" class=\"dataframe\">\n  <thead>\n    <tr style=\"text-align: right;\">\n      <th></th>\n      <th>studyno</th>\n      <th>doi</th>\n      <th>version</th>\n      <th>edition</th>\n      <th>survey</th>\n      <th>caseid</th>\n      <th>uniqid</th>\n      <th>tnscntry</th>\n      <th>country</th>\n      <th>isocntry</th>\n      <th>...</th>\n      <th>w82</th>\n      <th>w84</th>\n      <th>w89</th>\n      <th>w90</th>\n      <th>w95</th>\n      <th>w96</th>\n      <th>w97</th>\n      <th>w83</th>\n      <th>w98</th>\n      <th>wex</th>\n    </tr>\n  </thead>\n  <tbody>\n    <tr>\n      <th>8081</th>\n      <td>GESIS STUDY ID 6647</td>\n      <td>doi:10.4232/1.12515</td>\n      <td>1.0.0 (2016-04-21)</td>\n      <td>ARCHIVE RELEASE</td>\n      <td>Flash Eurobarometer 425 (September 2015)</td>\n      <td>8082</td>\n      <td>10008082</td>\n      <td>LUXEMBOURG</td>\n      <td>LU - Luxembourg</td>\n      <td>LU</td>\n      <td>...</td>\n      <td>0.0</td>\n      <td>0.0</td>\n      <td>0.017799</td>\n      <td>0.0</td>\n      <td>0.018843</td>\n      <td>0.0</td>\n      <td>0.019771</td>\n      <td>0.0</td>\n      <td>0.0</td>\n      <td>304.000641</td>\n    </tr>\n    <tr>\n      <th>814</th>\n      <td>GESIS STUDY ID 6647</td>\n      <td>doi:10.4232/1.12515</td>\n      <td>1.0.0 (2016-04-21)</td>\n      <td>ARCHIVE RELEASE</td>\n      <td>Flash Eurobarometer 425 (September 2015)</td>\n      <td>815</td>\n      <td>1000815</td>\n      <td>BELGIQUE</td>\n      <td>BE - Belgium</td>\n      <td>BE</td>\n      <td>...</td>\n      <td>0.0</td>\n      <td>0.0</td>\n      <td>0.273204</td>\n      <td>0.0</td>\n      <td>0.289230</td>\n      <td>0.0</td>\n      <td>0.303471</td>\n      <td>0.0</td>\n      <td>0.0</td>\n      <td>4666.253418</td>\n    </tr>\n    <tr>\n      <th>24028</th>\n      <td>GESIS STUDY ID 6647</td>\n      <td>doi:10.4232/1.12515</td>\n      <td>1.0.0 (2016-04-21)</td>\n      <td>ARCHIVE RELEASE</td>\n      <td>Flash Eurobarometer 425 (September 2015)</td>\n      <td>24029</td>\n      <td>41024029</td>\n      <td>SLOVENSKA REPUBLIC</td>\n      <td>SK - Slovakia</td>\n      <td>SK</td>\n      <td>...</td>\n      <td>0.0</td>\n      <td>0.0</td>\n      <td>0.674843</td>\n      <td>0.0</td>\n      <td>0.714429</td>\n      <td>0.0</td>\n      <td>0.749606</td>\n      <td>0.0</td>\n      <td>0.0</td>\n      <td>11526.148438</td>\n    </tr>\n    <tr>\n      <th>10724</th>\n      <td>GESIS STUDY ID 6647</td>\n      <td>doi:10.4232/1.12515</td>\n      <td>1.0.0 (2016-04-21)</td>\n      <td>ARCHIVE RELEASE</td>\n      <td>Flash Eurobarometer 425 (September 2015)</td>\n      <td>10725</td>\n      <td>13010725</td>\n      <td>PORTUGAL</td>\n      <td>PT - Portugal</td>\n      <td>PT</td>\n      <td>...</td>\n      <td>0.0</td>\n      <td>0.0</td>\n      <td>0.290865</td>\n      <td>0.0</td>\n      <td>0.307926</td>\n      <td>0.0</td>\n      <td>0.323088</td>\n      <td>0.0</td>\n      <td>0.0</td>\n      <td>4967.893066</td>\n    </tr>\n    <tr>\n      <th>24251</th>\n      <td>GESIS STUDY ID 6647</td>\n      <td>doi:10.4232/1.12515</td>\n      <td>1.0.0 (2016-04-21)</td>\n      <td>ARCHIVE RELEASE</td>\n      <td>Flash Eurobarometer 425 (September 2015)</td>\n      <td>24252</td>\n      <td>41024252</td>\n      <td>SLOVENSKA REPUBLIC</td>\n      <td>SK - Slovakia</td>\n      <td>SK</td>\n      <td>...</td>\n      <td>0.0</td>\n      <td>0.0</td>\n      <td>0.211204</td>\n      <td>0.0</td>\n      <td>0.223594</td>\n      <td>0.0</td>\n      <td>0.234603</td>\n      <td>0.0</td>\n      <td>0.0</td>\n      <td>3607.318115</td>\n    </tr>\n  </tbody>\n</table>\n<p>5 rows × 165 columns</p>\n</div>"
     },
     "execution_count": 26,
     "metadata": {},
     "output_type": "execute_result"
    }
   ],
   "source": [
    "# 5 Zeilen zufällig aus dem DataFrame auswählen\n",
    "data.sample(5)"
   ],
   "metadata": {
    "collapsed": false,
    "pycharm": {
     "name": "#%%\n"
    }
   }
  },
  {
   "cell_type": "code",
   "execution_count": 27,
   "outputs": [
    {
     "data": {
      "text/plain": "       caseid    uniqid      tnscntry       country isocntry  \\\n12830   12831   3012831   DEUTSCHLAND  DE - Germany       DE   \n18133   18134  35018134  MAGYARORSZAG  HU - Hungary       HU   \n17655   17656  34017656         EESTI  EE - Estonia       EE   \n17285   17286  34017286         EESTI  EE - Estonia       EE   \n3827     3828   5003828        ESPANA     ES -Spain       ES   \n\n                       mode           q1_1                q1_2  \\\n12830  Fixed telephone line  Not mentioned  Food manufacturers   \n18133  Fixed telephone line  Not mentioned       Not mentioned   \n17655     Mobile phone line  Not mentioned       Not mentioned   \n17285     Mobile phone line  Not mentioned  Food manufacturers   \n3827      Mobile phone line        Farmers  Food manufacturers   \n\n                      q1_3                                      q1_4  ...  \\\n12830        Not mentioned  no  Hospitality and food service sectors  ...   \n18133  Shops and retailers  no  Hospitality and food service sectors  ...   \n17655        Not mentioned  no  Hospitality and food service sectors  ...   \n17285        Not mentioned                             Not mentioned  ...   \n3827   Shops and retailers  no  Hospitality and food service sectors  ...   \n\n            w82       w84       w89       w90       w95      w96       w97  \\\n12830  0.000000  0.000000  1.919473  0.000000  2.032068  0.00000  2.132122   \n18133  0.286976  0.252222  0.000000  0.281493  0.000000  0.25845  0.000000   \n17655  0.051915  0.000000  0.039663  0.000000  0.041989  0.00000  0.044057   \n17285  0.088885  0.000000  0.067907  0.000000  0.071891  0.00000  0.075431   \n3827   0.000000  0.000000  2.073853  0.000000  2.195504  0.00000  2.303605   \n\n            w83       w98           wex  \n12830  0.000000  0.000000  32784.109375  \n18133  0.216722  0.237301   3744.696045  \n17655  0.000000  0.000000    677.426575  \n17285  0.000000  0.000000   1159.843628  \n3827   0.000000  0.000000  35420.886719  \n\n[5 rows x 160 columns]",
      "text/html": "<div>\n<style scoped>\n    .dataframe tbody tr th:only-of-type {\n        vertical-align: middle;\n    }\n\n    .dataframe tbody tr th {\n        vertical-align: top;\n    }\n\n    .dataframe thead th {\n        text-align: right;\n    }\n</style>\n<table border=\"1\" class=\"dataframe\">\n  <thead>\n    <tr style=\"text-align: right;\">\n      <th></th>\n      <th>caseid</th>\n      <th>uniqid</th>\n      <th>tnscntry</th>\n      <th>country</th>\n      <th>isocntry</th>\n      <th>mode</th>\n      <th>q1_1</th>\n      <th>q1_2</th>\n      <th>q1_3</th>\n      <th>q1_4</th>\n      <th>...</th>\n      <th>w82</th>\n      <th>w84</th>\n      <th>w89</th>\n      <th>w90</th>\n      <th>w95</th>\n      <th>w96</th>\n      <th>w97</th>\n      <th>w83</th>\n      <th>w98</th>\n      <th>wex</th>\n    </tr>\n  </thead>\n  <tbody>\n    <tr>\n      <th>12830</th>\n      <td>12831</td>\n      <td>3012831</td>\n      <td>DEUTSCHLAND</td>\n      <td>DE - Germany</td>\n      <td>DE</td>\n      <td>Fixed telephone line</td>\n      <td>Not mentioned</td>\n      <td>Food manufacturers</td>\n      <td>Not mentioned</td>\n      <td>no  Hospitality and food service sectors</td>\n      <td>...</td>\n      <td>0.000000</td>\n      <td>0.000000</td>\n      <td>1.919473</td>\n      <td>0.000000</td>\n      <td>2.032068</td>\n      <td>0.00000</td>\n      <td>2.132122</td>\n      <td>0.000000</td>\n      <td>0.000000</td>\n      <td>32784.109375</td>\n    </tr>\n    <tr>\n      <th>18133</th>\n      <td>18134</td>\n      <td>35018134</td>\n      <td>MAGYARORSZAG</td>\n      <td>HU - Hungary</td>\n      <td>HU</td>\n      <td>Fixed telephone line</td>\n      <td>Not mentioned</td>\n      <td>Not mentioned</td>\n      <td>Shops and retailers</td>\n      <td>no  Hospitality and food service sectors</td>\n      <td>...</td>\n      <td>0.286976</td>\n      <td>0.252222</td>\n      <td>0.000000</td>\n      <td>0.281493</td>\n      <td>0.000000</td>\n      <td>0.25845</td>\n      <td>0.000000</td>\n      <td>0.216722</td>\n      <td>0.237301</td>\n      <td>3744.696045</td>\n    </tr>\n    <tr>\n      <th>17655</th>\n      <td>17656</td>\n      <td>34017656</td>\n      <td>EESTI</td>\n      <td>EE - Estonia</td>\n      <td>EE</td>\n      <td>Mobile phone line</td>\n      <td>Not mentioned</td>\n      <td>Not mentioned</td>\n      <td>Not mentioned</td>\n      <td>no  Hospitality and food service sectors</td>\n      <td>...</td>\n      <td>0.051915</td>\n      <td>0.000000</td>\n      <td>0.039663</td>\n      <td>0.000000</td>\n      <td>0.041989</td>\n      <td>0.00000</td>\n      <td>0.044057</td>\n      <td>0.000000</td>\n      <td>0.000000</td>\n      <td>677.426575</td>\n    </tr>\n    <tr>\n      <th>17285</th>\n      <td>17286</td>\n      <td>34017286</td>\n      <td>EESTI</td>\n      <td>EE - Estonia</td>\n      <td>EE</td>\n      <td>Mobile phone line</td>\n      <td>Not mentioned</td>\n      <td>Food manufacturers</td>\n      <td>Not mentioned</td>\n      <td>Not mentioned</td>\n      <td>...</td>\n      <td>0.088885</td>\n      <td>0.000000</td>\n      <td>0.067907</td>\n      <td>0.000000</td>\n      <td>0.071891</td>\n      <td>0.00000</td>\n      <td>0.075431</td>\n      <td>0.000000</td>\n      <td>0.000000</td>\n      <td>1159.843628</td>\n    </tr>\n    <tr>\n      <th>3827</th>\n      <td>3828</td>\n      <td>5003828</td>\n      <td>ESPANA</td>\n      <td>ES -Spain</td>\n      <td>ES</td>\n      <td>Mobile phone line</td>\n      <td>Farmers</td>\n      <td>Food manufacturers</td>\n      <td>Shops and retailers</td>\n      <td>no  Hospitality and food service sectors</td>\n      <td>...</td>\n      <td>0.000000</td>\n      <td>0.000000</td>\n      <td>2.073853</td>\n      <td>0.000000</td>\n      <td>2.195504</td>\n      <td>0.00000</td>\n      <td>2.303605</td>\n      <td>0.000000</td>\n      <td>0.000000</td>\n      <td>35420.886719</td>\n    </tr>\n  </tbody>\n</table>\n<p>5 rows × 160 columns</p>\n</div>"
     },
     "execution_count": 27,
     "metadata": {},
     "output_type": "execute_result"
    }
   ],
   "source": [
    "# Unerwünschte Spalten definieren und löschen\n",
    "cols_to_delete = ['studyno', 'doi', 'version', 'edition', 'survey']\n",
    "data = data.drop(columns=cols_to_delete)\n",
    "data.sample(5)"
   ],
   "metadata": {
    "collapsed": false,
    "pycharm": {
     "name": "#%%\n"
    }
   }
  },
  {
   "cell_type": "code",
   "execution_count": 28,
   "outputs": [
    {
     "data": {
      "text/plain": "       caseid    uniqid    tnscntry               country isocntry  \\\n23421   23422  40023422     ROMANIA          RO - Romania       RO   \n24620   24621  42024621   SLOVENIJA         SI - Slovenia       SI   \n9127     9128  11009128   NEDERLAND  NL - The Netherlands       NL   \n6842     6843   8006843     IRELAND          IE - Ireland       IE   \n10388   10389  12010389  ÖSTERREICH          AT - Austria       AT   \n\n                       mode           q1_1                q1_2  \\\n23421  Fixed telephone line  Not mentioned       Not mentioned   \n24620     Mobile phone line  Not mentioned       Not mentioned   \n9127      Mobile phone line        Farmers  Food manufacturers   \n6842   Fixed telephone line  Not mentioned       Not mentioned   \n10388     Mobile phone line        Farmers  Food manufacturers   \n\n                      q1_3                                      q1_4  ...  \\\n23421  Shops and retailers  no  Hospitality and food service sectors  ...   \n24620        Not mentioned                             Not mentioned  ...   \n9127   Shops and retailers  no  Hospitality and food service sectors  ...   \n6842         Not mentioned  no  Hospitality and food service sectors  ...   \n10388  Shops and retailers  no  Hospitality and food service sectors  ...   \n\n            w82       w84       w89       w90       w95       w96       w97  \\\n23421  1.428481  1.255486  0.000000  1.401191  0.000000  1.286489  0.000000   \n24620  0.000000  0.000000  0.032180  0.000000  0.034068  0.000000  0.035745   \n9127   0.000000  0.000000  0.803936  0.000000  0.851094  0.000000  0.893000   \n6842   0.000000  0.000000  0.634177  0.000000  0.671377  0.000000  0.704434   \n10388  0.000000  0.000000  0.359104  0.000000  0.380168  0.000000  0.398887   \n\n            w83       w98           wex  \n23421  1.078779  1.181215  18640.001953  \n24620  0.000000  0.000000    549.623779  \n9127   0.000000  0.000000  13731.021484  \n6842   0.000000  0.000000  10831.582031  \n10388  0.000000  0.000000   6133.400879  \n\n[5 rows x 160 columns]",
      "text/html": "<div>\n<style scoped>\n    .dataframe tbody tr th:only-of-type {\n        vertical-align: middle;\n    }\n\n    .dataframe tbody tr th {\n        vertical-align: top;\n    }\n\n    .dataframe thead th {\n        text-align: right;\n    }\n</style>\n<table border=\"1\" class=\"dataframe\">\n  <thead>\n    <tr style=\"text-align: right;\">\n      <th></th>\n      <th>caseid</th>\n      <th>uniqid</th>\n      <th>tnscntry</th>\n      <th>country</th>\n      <th>isocntry</th>\n      <th>mode</th>\n      <th>q1_1</th>\n      <th>q1_2</th>\n      <th>q1_3</th>\n      <th>q1_4</th>\n      <th>...</th>\n      <th>w82</th>\n      <th>w84</th>\n      <th>w89</th>\n      <th>w90</th>\n      <th>w95</th>\n      <th>w96</th>\n      <th>w97</th>\n      <th>w83</th>\n      <th>w98</th>\n      <th>wex</th>\n    </tr>\n  </thead>\n  <tbody>\n    <tr>\n      <th>23421</th>\n      <td>23422</td>\n      <td>40023422</td>\n      <td>ROMANIA</td>\n      <td>RO - Romania</td>\n      <td>RO</td>\n      <td>Fixed telephone line</td>\n      <td>Not mentioned</td>\n      <td>Not mentioned</td>\n      <td>Shops and retailers</td>\n      <td>no  Hospitality and food service sectors</td>\n      <td>...</td>\n      <td>1.428481</td>\n      <td>1.255486</td>\n      <td>0.000000</td>\n      <td>1.401191</td>\n      <td>0.000000</td>\n      <td>1.286489</td>\n      <td>0.000000</td>\n      <td>1.078779</td>\n      <td>1.181215</td>\n      <td>18640.001953</td>\n    </tr>\n    <tr>\n      <th>24620</th>\n      <td>24621</td>\n      <td>42024621</td>\n      <td>SLOVENIJA</td>\n      <td>SI - Slovenia</td>\n      <td>SI</td>\n      <td>Mobile phone line</td>\n      <td>Not mentioned</td>\n      <td>Not mentioned</td>\n      <td>Not mentioned</td>\n      <td>Not mentioned</td>\n      <td>...</td>\n      <td>0.000000</td>\n      <td>0.000000</td>\n      <td>0.032180</td>\n      <td>0.000000</td>\n      <td>0.034068</td>\n      <td>0.000000</td>\n      <td>0.035745</td>\n      <td>0.000000</td>\n      <td>0.000000</td>\n      <td>549.623779</td>\n    </tr>\n    <tr>\n      <th>9127</th>\n      <td>9128</td>\n      <td>11009128</td>\n      <td>NEDERLAND</td>\n      <td>NL - The Netherlands</td>\n      <td>NL</td>\n      <td>Mobile phone line</td>\n      <td>Farmers</td>\n      <td>Food manufacturers</td>\n      <td>Shops and retailers</td>\n      <td>no  Hospitality and food service sectors</td>\n      <td>...</td>\n      <td>0.000000</td>\n      <td>0.000000</td>\n      <td>0.803936</td>\n      <td>0.000000</td>\n      <td>0.851094</td>\n      <td>0.000000</td>\n      <td>0.893000</td>\n      <td>0.000000</td>\n      <td>0.000000</td>\n      <td>13731.021484</td>\n    </tr>\n    <tr>\n      <th>6842</th>\n      <td>6843</td>\n      <td>8006843</td>\n      <td>IRELAND</td>\n      <td>IE - Ireland</td>\n      <td>IE</td>\n      <td>Fixed telephone line</td>\n      <td>Not mentioned</td>\n      <td>Not mentioned</td>\n      <td>Not mentioned</td>\n      <td>no  Hospitality and food service sectors</td>\n      <td>...</td>\n      <td>0.000000</td>\n      <td>0.000000</td>\n      <td>0.634177</td>\n      <td>0.000000</td>\n      <td>0.671377</td>\n      <td>0.000000</td>\n      <td>0.704434</td>\n      <td>0.000000</td>\n      <td>0.000000</td>\n      <td>10831.582031</td>\n    </tr>\n    <tr>\n      <th>10388</th>\n      <td>10389</td>\n      <td>12010389</td>\n      <td>ÖSTERREICH</td>\n      <td>AT - Austria</td>\n      <td>AT</td>\n      <td>Mobile phone line</td>\n      <td>Farmers</td>\n      <td>Food manufacturers</td>\n      <td>Shops and retailers</td>\n      <td>no  Hospitality and food service sectors</td>\n      <td>...</td>\n      <td>0.000000</td>\n      <td>0.000000</td>\n      <td>0.359104</td>\n      <td>0.000000</td>\n      <td>0.380168</td>\n      <td>0.000000</td>\n      <td>0.398887</td>\n      <td>0.000000</td>\n      <td>0.000000</td>\n      <td>6133.400879</td>\n    </tr>\n  </tbody>\n</table>\n<p>5 rows × 160 columns</p>\n</div>"
     },
     "execution_count": 28,
     "metadata": {},
     "output_type": "execute_result"
    }
   ],
   "source": [
    "# Umzubennende Spalten definieren und umbennenen\n",
    "cols_to_rename = {\n",
    "    'd1': 'age',\n",
    "    'd2': 'gender',\n",
    "}\n",
    "data = data.rename(columns=cols_to_rename)\n",
    "data.sample(5)"
   ],
   "metadata": {
    "collapsed": false,
    "pycharm": {
     "name": "#%%\n"
    }
   }
  },
  {
   "cell_type": "code",
   "execution_count": 29,
   "outputs": [
    {
     "data": {
      "text/plain": "['Sometimes', 'Always', 'Rarely', 'Often', 'Never', 'DK/NA']\nCategories (6, object): ['Always' < 'Often' < 'Sometimes' < 'Rarely' < 'Never' < 'DK/NA']"
     },
     "execution_count": 29,
     "metadata": {},
     "output_type": "execute_result"
    }
   ],
   "source": [
    "# Finde alle möglichen Antworten zu Frage Q3\n",
    "data['q3'].unique()"
   ],
   "metadata": {
    "collapsed": false,
    "pycharm": {
     "name": "#%%\n"
    }
   }
  },
  {
   "cell_type": "code",
   "execution_count": 30,
   "outputs": [
    {
     "data": {
      "text/plain": "       caseid    uniqid  tnscntry       country isocntry  \\\n48         49   1000049  BELGIQUE  BE - Belgium       BE   \n114       115   1000115  BELGIQUE  BE - Belgium       BE   \n135       136   1000136  BELGIQUE  BE - Belgium       BE   \n249       250   1000250  BELGIQUE  BE - Belgium       BE   \n258       259   1000259  BELGIQUE  BE - Belgium       BE   \n...       ...       ...       ...           ...      ...   \n26502   26503  46026503  HRVATSKA  HR - Croatia       HR   \n26525   26526  46026526  HRVATSKA  HR - Croatia       HR   \n26528   26529  46026529  HRVATSKA  HR - Croatia       HR   \n26540   26541  46026541  HRVATSKA  HR - Croatia       HR   \n26548   26549  46026549  HRVATSKA  HR - Croatia       HR   \n\n                       mode           q1_1                q1_2  \\\n48     Fixed telephone line        Farmers  Food manufacturers   \n114    Fixed telephone line        Farmers       Not mentioned   \n135    Fixed telephone line  Not mentioned  Food manufacturers   \n249    Fixed telephone line  Not mentioned  Food manufacturers   \n258    Fixed telephone line        Farmers  Food manufacturers   \n...                     ...            ...                 ...   \n26502  Fixed telephone line  Not mentioned       Not mentioned   \n26525     Mobile phone line  Not mentioned  Food manufacturers   \n26528  Fixed telephone line        Farmers  Food manufacturers   \n26540     Mobile phone line        Farmers  Food manufacturers   \n26548  Fixed telephone line  Not mentioned       Not mentioned   \n\n                      q1_3                                      q1_4  ...  \\\n48     Shops and retailers  no  Hospitality and food service sectors  ...   \n114    Shops and retailers  no  Hospitality and food service sectors  ...   \n135    Shops and retailers  no  Hospitality and food service sectors  ...   \n249    Shops and retailers                             Not mentioned  ...   \n258    Shops and retailers  no  Hospitality and food service sectors  ...   \n...                    ...                                       ...  ...   \n26502  Shops and retailers                             Not mentioned  ...   \n26525  Shops and retailers  no  Hospitality and food service sectors  ...   \n26528  Shops and retailers  no  Hospitality and food service sectors  ...   \n26540  Shops and retailers  no  Hospitality and food service sectors  ...   \n26548        Not mentioned                             Not mentioned  ...   \n\n       w82  w84       w89       w90       w95       w96       w97  w83  \\\n48     0.0  0.0  0.518591  0.000000  0.549011  0.000000  0.576043  0.0   \n114    0.0  0.0  0.365440  0.000000  0.386876  0.000000  0.405925  0.0   \n135    0.0  0.0  0.712317  0.000000  0.754101  0.000000  0.791231  0.0   \n249    0.0  0.0  0.465675  0.000000  0.492992  0.000000  0.517265  0.0   \n258    0.0  0.0  0.365440  0.000000  0.386876  0.000000  0.405925  0.0   \n...    ...  ...       ...       ...       ...       ...       ...  ...   \n26502  0.0  0.0  0.000000  0.217276  0.000000  0.199490  0.000000  0.0   \n26525  0.0  0.0  0.000000  0.851884  0.000000  0.782149  0.000000  0.0   \n26528  0.0  0.0  0.000000  0.100986  0.000000  0.092719  0.000000  0.0   \n26540  0.0  0.0  0.000000  0.353944  0.000000  0.324970  0.000000  0.0   \n26548  0.0  0.0  0.000000  0.851856  0.000000  0.782123  0.000000  0.0   \n\n            w98           wex  \n48     0.000000   8857.397461  \n114    0.000000   6241.616211  \n135    0.000000  12166.195312  \n249    0.000000   7953.618164  \n258    0.000000   6241.616211  \n...         ...           ...  \n26502  0.183166   2890.419189  \n26525  0.718145  11332.587891  \n26528  0.085132   1343.413086  \n26540  0.298378   4708.507324  \n26548  0.718121  11332.212891  \n\n[894 rows x 160 columns]",
      "text/html": "<div>\n<style scoped>\n    .dataframe tbody tr th:only-of-type {\n        vertical-align: middle;\n    }\n\n    .dataframe tbody tr th {\n        vertical-align: top;\n    }\n\n    .dataframe thead th {\n        text-align: right;\n    }\n</style>\n<table border=\"1\" class=\"dataframe\">\n  <thead>\n    <tr style=\"text-align: right;\">\n      <th></th>\n      <th>caseid</th>\n      <th>uniqid</th>\n      <th>tnscntry</th>\n      <th>country</th>\n      <th>isocntry</th>\n      <th>mode</th>\n      <th>q1_1</th>\n      <th>q1_2</th>\n      <th>q1_3</th>\n      <th>q1_4</th>\n      <th>...</th>\n      <th>w82</th>\n      <th>w84</th>\n      <th>w89</th>\n      <th>w90</th>\n      <th>w95</th>\n      <th>w96</th>\n      <th>w97</th>\n      <th>w83</th>\n      <th>w98</th>\n      <th>wex</th>\n    </tr>\n  </thead>\n  <tbody>\n    <tr>\n      <th>48</th>\n      <td>49</td>\n      <td>1000049</td>\n      <td>BELGIQUE</td>\n      <td>BE - Belgium</td>\n      <td>BE</td>\n      <td>Fixed telephone line</td>\n      <td>Farmers</td>\n      <td>Food manufacturers</td>\n      <td>Shops and retailers</td>\n      <td>no  Hospitality and food service sectors</td>\n      <td>...</td>\n      <td>0.0</td>\n      <td>0.0</td>\n      <td>0.518591</td>\n      <td>0.000000</td>\n      <td>0.549011</td>\n      <td>0.000000</td>\n      <td>0.576043</td>\n      <td>0.0</td>\n      <td>0.000000</td>\n      <td>8857.397461</td>\n    </tr>\n    <tr>\n      <th>114</th>\n      <td>115</td>\n      <td>1000115</td>\n      <td>BELGIQUE</td>\n      <td>BE - Belgium</td>\n      <td>BE</td>\n      <td>Fixed telephone line</td>\n      <td>Farmers</td>\n      <td>Not mentioned</td>\n      <td>Shops and retailers</td>\n      <td>no  Hospitality and food service sectors</td>\n      <td>...</td>\n      <td>0.0</td>\n      <td>0.0</td>\n      <td>0.365440</td>\n      <td>0.000000</td>\n      <td>0.386876</td>\n      <td>0.000000</td>\n      <td>0.405925</td>\n      <td>0.0</td>\n      <td>0.000000</td>\n      <td>6241.616211</td>\n    </tr>\n    <tr>\n      <th>135</th>\n      <td>136</td>\n      <td>1000136</td>\n      <td>BELGIQUE</td>\n      <td>BE - Belgium</td>\n      <td>BE</td>\n      <td>Fixed telephone line</td>\n      <td>Not mentioned</td>\n      <td>Food manufacturers</td>\n      <td>Shops and retailers</td>\n      <td>no  Hospitality and food service sectors</td>\n      <td>...</td>\n      <td>0.0</td>\n      <td>0.0</td>\n      <td>0.712317</td>\n      <td>0.000000</td>\n      <td>0.754101</td>\n      <td>0.000000</td>\n      <td>0.791231</td>\n      <td>0.0</td>\n      <td>0.000000</td>\n      <td>12166.195312</td>\n    </tr>\n    <tr>\n      <th>249</th>\n      <td>250</td>\n      <td>1000250</td>\n      <td>BELGIQUE</td>\n      <td>BE - Belgium</td>\n      <td>BE</td>\n      <td>Fixed telephone line</td>\n      <td>Not mentioned</td>\n      <td>Food manufacturers</td>\n      <td>Shops and retailers</td>\n      <td>Not mentioned</td>\n      <td>...</td>\n      <td>0.0</td>\n      <td>0.0</td>\n      <td>0.465675</td>\n      <td>0.000000</td>\n      <td>0.492992</td>\n      <td>0.000000</td>\n      <td>0.517265</td>\n      <td>0.0</td>\n      <td>0.000000</td>\n      <td>7953.618164</td>\n    </tr>\n    <tr>\n      <th>258</th>\n      <td>259</td>\n      <td>1000259</td>\n      <td>BELGIQUE</td>\n      <td>BE - Belgium</td>\n      <td>BE</td>\n      <td>Fixed telephone line</td>\n      <td>Farmers</td>\n      <td>Food manufacturers</td>\n      <td>Shops and retailers</td>\n      <td>no  Hospitality and food service sectors</td>\n      <td>...</td>\n      <td>0.0</td>\n      <td>0.0</td>\n      <td>0.365440</td>\n      <td>0.000000</td>\n      <td>0.386876</td>\n      <td>0.000000</td>\n      <td>0.405925</td>\n      <td>0.0</td>\n      <td>0.000000</td>\n      <td>6241.616211</td>\n    </tr>\n    <tr>\n      <th>...</th>\n      <td>...</td>\n      <td>...</td>\n      <td>...</td>\n      <td>...</td>\n      <td>...</td>\n      <td>...</td>\n      <td>...</td>\n      <td>...</td>\n      <td>...</td>\n      <td>...</td>\n      <td>...</td>\n      <td>...</td>\n      <td>...</td>\n      <td>...</td>\n      <td>...</td>\n      <td>...</td>\n      <td>...</td>\n      <td>...</td>\n      <td>...</td>\n      <td>...</td>\n      <td>...</td>\n    </tr>\n    <tr>\n      <th>26502</th>\n      <td>26503</td>\n      <td>46026503</td>\n      <td>HRVATSKA</td>\n      <td>HR - Croatia</td>\n      <td>HR</td>\n      <td>Fixed telephone line</td>\n      <td>Not mentioned</td>\n      <td>Not mentioned</td>\n      <td>Shops and retailers</td>\n      <td>Not mentioned</td>\n      <td>...</td>\n      <td>0.0</td>\n      <td>0.0</td>\n      <td>0.000000</td>\n      <td>0.217276</td>\n      <td>0.000000</td>\n      <td>0.199490</td>\n      <td>0.000000</td>\n      <td>0.0</td>\n      <td>0.183166</td>\n      <td>2890.419189</td>\n    </tr>\n    <tr>\n      <th>26525</th>\n      <td>26526</td>\n      <td>46026526</td>\n      <td>HRVATSKA</td>\n      <td>HR - Croatia</td>\n      <td>HR</td>\n      <td>Mobile phone line</td>\n      <td>Not mentioned</td>\n      <td>Food manufacturers</td>\n      <td>Shops and retailers</td>\n      <td>no  Hospitality and food service sectors</td>\n      <td>...</td>\n      <td>0.0</td>\n      <td>0.0</td>\n      <td>0.000000</td>\n      <td>0.851884</td>\n      <td>0.000000</td>\n      <td>0.782149</td>\n      <td>0.000000</td>\n      <td>0.0</td>\n      <td>0.718145</td>\n      <td>11332.587891</td>\n    </tr>\n    <tr>\n      <th>26528</th>\n      <td>26529</td>\n      <td>46026529</td>\n      <td>HRVATSKA</td>\n      <td>HR - Croatia</td>\n      <td>HR</td>\n      <td>Fixed telephone line</td>\n      <td>Farmers</td>\n      <td>Food manufacturers</td>\n      <td>Shops and retailers</td>\n      <td>no  Hospitality and food service sectors</td>\n      <td>...</td>\n      <td>0.0</td>\n      <td>0.0</td>\n      <td>0.000000</td>\n      <td>0.100986</td>\n      <td>0.000000</td>\n      <td>0.092719</td>\n      <td>0.000000</td>\n      <td>0.0</td>\n      <td>0.085132</td>\n      <td>1343.413086</td>\n    </tr>\n    <tr>\n      <th>26540</th>\n      <td>26541</td>\n      <td>46026541</td>\n      <td>HRVATSKA</td>\n      <td>HR - Croatia</td>\n      <td>HR</td>\n      <td>Mobile phone line</td>\n      <td>Farmers</td>\n      <td>Food manufacturers</td>\n      <td>Shops and retailers</td>\n      <td>no  Hospitality and food service sectors</td>\n      <td>...</td>\n      <td>0.0</td>\n      <td>0.0</td>\n      <td>0.000000</td>\n      <td>0.353944</td>\n      <td>0.000000</td>\n      <td>0.324970</td>\n      <td>0.000000</td>\n      <td>0.0</td>\n      <td>0.298378</td>\n      <td>4708.507324</td>\n    </tr>\n    <tr>\n      <th>26548</th>\n      <td>26549</td>\n      <td>46026549</td>\n      <td>HRVATSKA</td>\n      <td>HR - Croatia</td>\n      <td>HR</td>\n      <td>Fixed telephone line</td>\n      <td>Not mentioned</td>\n      <td>Not mentioned</td>\n      <td>Not mentioned</td>\n      <td>Not mentioned</td>\n      <td>...</td>\n      <td>0.0</td>\n      <td>0.0</td>\n      <td>0.000000</td>\n      <td>0.851856</td>\n      <td>0.000000</td>\n      <td>0.782123</td>\n      <td>0.000000</td>\n      <td>0.0</td>\n      <td>0.718121</td>\n      <td>11332.212891</td>\n    </tr>\n  </tbody>\n</table>\n<p>894 rows × 160 columns</p>\n</div>"
     },
     "execution_count": 30,
     "metadata": {},
     "output_type": "execute_result"
    }
   ],
   "source": [
    "# Finde alle Befragten, die nie auf das Verfallsdatum achten\n",
    "data[data['q3']=='Never']"
   ],
   "metadata": {
    "collapsed": false,
    "pycharm": {
     "name": "#%%\n"
    }
   }
  },
  {
   "cell_type": "code",
   "execution_count": 31,
   "outputs": [
    {
     "data": {
      "text/plain": "       caseid   uniqid     tnscntry       country isocntry  \\\n12558   12559  3012559  DEUTSCHLAND  DE - Germany       DE   \n12562   12563  3012563  DEUTSCHLAND  DE - Germany       DE   \n12566   12567  3012567  DEUTSCHLAND  DE - Germany       DE   \n12567   12568  3012568  DEUTSCHLAND  DE - Germany       DE   \n12642   12643  3012643  DEUTSCHLAND  DE - Germany       DE   \n12673   12674  3012674  DEUTSCHLAND  DE - Germany       DE   \n12682   12683  3012683  DEUTSCHLAND  DE - Germany       DE   \n12696   12697  3012697  DEUTSCHLAND  DE - Germany       DE   \n12794   12795  3012795  DEUTSCHLAND  DE - Germany       DE   \n12805   12806  3012806  DEUTSCHLAND  DE - Germany       DE   \n12817   12818  3012818  DEUTSCHLAND  DE - Germany       DE   \n12885   12886  3012886  DEUTSCHLAND  DE - Germany       DE   \n12898   12899  3012899  DEUTSCHLAND  DE - Germany       DE   \n12899   12900  3012900  DEUTSCHLAND  DE - Germany       DE   \n12985   12986  3012986  DEUTSCHLAND  DE - Germany       DE   \n13025   13026  3013026  DEUTSCHLAND  DE - Germany       DE   \n13056   13057  3013057  DEUTSCHLAND  DE - Germany       DE   \n13061   13062  3013062  DEUTSCHLAND  DE - Germany       DE   \n13065   13066  3013066  DEUTSCHLAND  DE - Germany       DE   \n13096   13097  3013097  DEUTSCHLAND  DE - Germany       DE   \n13108   13109  3013109  DEUTSCHLAND  DE - Germany       DE   \n13113   13114  3013114  DEUTSCHLAND  DE - Germany       DE   \n13118   13119  3013119  DEUTSCHLAND  DE - Germany       DE   \n13148   13149  3013149  DEUTSCHLAND  DE - Germany       DE   \n13156   13157  3013157  DEUTSCHLAND  DE - Germany       DE   \n13193   13194  3013194  DEUTSCHLAND  DE - Germany       DE   \n13197   13198  3013198  DEUTSCHLAND  DE - Germany       DE   \n13206   13207  3013207  DEUTSCHLAND  DE - Germany       DE   \n13208   13209  3013209  DEUTSCHLAND  DE - Germany       DE   \n13217   13218  3013218  DEUTSCHLAND  DE - Germany       DE   \n13220   13221  3013221  DEUTSCHLAND  DE - Germany       DE   \n13233   13234  3013234  DEUTSCHLAND  DE - Germany       DE   \n13249   13250  3013250  DEUTSCHLAND  DE - Germany       DE   \n13255   13256  3013256  DEUTSCHLAND  DE - Germany       DE   \n13293   13294  3013294  DEUTSCHLAND  DE - Germany       DE   \n13296   13297  3013297  DEUTSCHLAND  DE - Germany       DE   \n13334   13335  3013335  DEUTSCHLAND  DE - Germany       DE   \n13338   13339  3013339  DEUTSCHLAND  DE - Germany       DE   \n13350   13351  3013351  DEUTSCHLAND  DE - Germany       DE   \n13389   13390  3013390  DEUTSCHLAND  DE - Germany       DE   \n13426   13427  3013427  DEUTSCHLAND  DE - Germany       DE   \n13440   13441  3013441  DEUTSCHLAND  DE - Germany       DE   \n13465   13466  3013466  DEUTSCHLAND  DE - Germany       DE   \n13524   13525  3013525  DEUTSCHLAND  DE - Germany       DE   \n13529   13530  3013530  DEUTSCHLAND  DE - Germany       DE   \n\n                       mode           q1_1                q1_2  \\\n12558  Fixed telephone line  Not mentioned       Not mentioned   \n12562  Fixed telephone line  Not mentioned       Not mentioned   \n12566  Fixed telephone line  Not mentioned       Not mentioned   \n12567  Fixed telephone line  Not mentioned  Food manufacturers   \n12642  Fixed telephone line  Not mentioned       Not mentioned   \n12673  Fixed telephone line  Not mentioned       Not mentioned   \n12682  Fixed telephone line        Farmers       Not mentioned   \n12696  Fixed telephone line        Farmers  Food manufacturers   \n12794  Fixed telephone line        Farmers  Food manufacturers   \n12805  Fixed telephone line  Not mentioned       Not mentioned   \n12817     Mobile phone line  Not mentioned       Not mentioned   \n12885  Fixed telephone line        Farmers  Food manufacturers   \n12898  Fixed telephone line  Not mentioned       Not mentioned   \n12899  Fixed telephone line  Not mentioned       Not mentioned   \n12985  Fixed telephone line  Not mentioned       Not mentioned   \n13025  Fixed telephone line  Not mentioned       Not mentioned   \n13056  Fixed telephone line  Not mentioned  Food manufacturers   \n13061  Fixed telephone line        Farmers  Food manufacturers   \n13065  Fixed telephone line  Not mentioned       Not mentioned   \n13096  Fixed telephone line        Farmers  Food manufacturers   \n13108  Fixed telephone line  Not mentioned       Not mentioned   \n13113  Fixed telephone line  Not mentioned       Not mentioned   \n13118  Fixed telephone line  Not mentioned  Food manufacturers   \n13148  Fixed telephone line        Farmers  Food manufacturers   \n13156  Fixed telephone line        Farmers  Food manufacturers   \n13193  Fixed telephone line        Farmers       Not mentioned   \n13197  Fixed telephone line        Farmers  Food manufacturers   \n13206  Fixed telephone line  Not mentioned       Not mentioned   \n13208  Fixed telephone line        Farmers  Food manufacturers   \n13217  Fixed telephone line        Farmers       Not mentioned   \n13220  Fixed telephone line        Farmers       Not mentioned   \n13233  Fixed telephone line  Not mentioned  Food manufacturers   \n13249  Fixed telephone line  Not mentioned       Not mentioned   \n13255  Fixed telephone line  Not mentioned       Not mentioned   \n13293  Fixed telephone line  Not mentioned       Not mentioned   \n13296  Fixed telephone line  Not mentioned       Not mentioned   \n13334  Fixed telephone line        Farmers       Not mentioned   \n13338     Mobile phone line  Not mentioned       Not mentioned   \n13350  Fixed telephone line  Not mentioned  Food manufacturers   \n13389     Mobile phone line  Not mentioned  Food manufacturers   \n13426  Fixed telephone line  Not mentioned  Food manufacturers   \n13440  Fixed telephone line  Not mentioned       Not mentioned   \n13465  Fixed telephone line        Farmers  Food manufacturers   \n13524  Fixed telephone line        Farmers  Food manufacturers   \n13529     Mobile phone line  Not mentioned  Food manufacturers   \n\n                      q1_3                                      q1_4  ...  \\\n12558  Shops and retailers  no  Hospitality and food service sectors  ...   \n12562        Not mentioned                             Not mentioned  ...   \n12566        Not mentioned  no  Hospitality and food service sectors  ...   \n12567  Shops and retailers                             Not mentioned  ...   \n12642        Not mentioned                             Not mentioned  ...   \n12673        Not mentioned                             Not mentioned  ...   \n12682        Not mentioned                             Not mentioned  ...   \n12696  Shops and retailers  no  Hospitality and food service sectors  ...   \n12794  Shops and retailers  no  Hospitality and food service sectors  ...   \n12805        Not mentioned                             Not mentioned  ...   \n12817        Not mentioned  no  Hospitality and food service sectors  ...   \n12885  Shops and retailers  no  Hospitality and food service sectors  ...   \n12898  Shops and retailers                             Not mentioned  ...   \n12899        Not mentioned                             Not mentioned  ...   \n12985        Not mentioned                             Not mentioned  ...   \n13025        Not mentioned                             Not mentioned  ...   \n13056        Not mentioned                             Not mentioned  ...   \n13061  Shops and retailers  no  Hospitality and food service sectors  ...   \n13065  Shops and retailers                             Not mentioned  ...   \n13096  Shops and retailers  no  Hospitality and food service sectors  ...   \n13108  Shops and retailers  no  Hospitality and food service sectors  ...   \n13113        Not mentioned                             Not mentioned  ...   \n13118  Shops and retailers  no  Hospitality and food service sectors  ...   \n13148  Shops and retailers  no  Hospitality and food service sectors  ...   \n13156  Shops and retailers  no  Hospitality and food service sectors  ...   \n13193        Not mentioned                             Not mentioned  ...   \n13197  Shops and retailers  no  Hospitality and food service sectors  ...   \n13206        Not mentioned                             Not mentioned  ...   \n13208  Shops and retailers                             Not mentioned  ...   \n13217  Shops and retailers  no  Hospitality and food service sectors  ...   \n13220        Not mentioned                             Not mentioned  ...   \n13233  Shops and retailers                             Not mentioned  ...   \n13249  Shops and retailers                             Not mentioned  ...   \n13255  Shops and retailers                             Not mentioned  ...   \n13293        Not mentioned                             Not mentioned  ...   \n13296        Not mentioned                             Not mentioned  ...   \n13334  Shops and retailers  no  Hospitality and food service sectors  ...   \n13338        Not mentioned                             Not mentioned  ...   \n13350  Shops and retailers  no  Hospitality and food service sectors  ...   \n13389  Shops and retailers  no  Hospitality and food service sectors  ...   \n13426  Shops and retailers                             Not mentioned  ...   \n13440        Not mentioned                             Not mentioned  ...   \n13465  Shops and retailers  no  Hospitality and food service sectors  ...   \n13524  Shops and retailers                             Not mentioned  ...   \n13529        Not mentioned                             Not mentioned  ...   \n\n       w82  w84       w89  w90       w95  w96       w97  w83  w98  \\\n12558  0.0  0.0  5.121486  0.0  5.421908  0.0  5.688869  0.0  0.0   \n12562  0.0  0.0  6.637455  0.0  7.026802  0.0  7.372785  0.0  0.0   \n12566  0.0  0.0  2.342210  0.0  2.479602  0.0  2.601691  0.0  0.0   \n12567  0.0  0.0  2.741565  0.0  2.902384  0.0  3.045290  0.0  0.0   \n12642  0.0  0.0  5.121486  0.0  5.421908  0.0  5.688869  0.0  0.0   \n12673  0.0  0.0  2.226438  0.0  2.357039  0.0  2.473094  0.0  0.0   \n12682  0.0  0.0  1.544629  0.0  1.635236  0.0  1.715751  0.0  0.0   \n12696  0.0  0.0  1.970382  0.0  2.085963  0.0  2.188671  0.0  0.0   \n12794  0.0  0.0  1.970382  0.0  2.085963  0.0  2.188671  0.0  0.0   \n12805  0.0  0.0  2.216633  0.0  2.346659  0.0  2.462203  0.0  0.0   \n12817  0.0  0.0  5.081512  0.0  5.379590  0.0  5.644468  0.0  0.0   \n12885  0.0  0.0  2.241145  0.0  2.372609  0.0  2.489430  0.0  0.0   \n12898  0.0  0.0  2.411974  0.0  2.553459  0.0  2.679185  0.0  0.0   \n12899  0.0  0.0  2.197778  0.0  2.326698  0.0  2.441258  0.0  0.0   \n12985  0.0  0.0  2.905607  0.0  3.076047  0.0  3.227504  0.0  0.0   \n13025  0.0  0.0  7.513096  0.0  7.953808  0.0  8.345435  0.0  0.0   \n13056  0.0  0.0  6.637455  0.0  7.026802  0.0  7.372785  0.0  0.0   \n13061  0.0  0.0  2.173643  0.0  2.301147  0.0  2.414450  0.0  0.0   \n13065  0.0  0.0  2.533403  0.0  2.682010  0.0  2.814066  0.0  0.0   \n13096  0.0  0.0  5.594000  0.0  5.922140  0.0  6.213732  0.0  0.0   \n13108  0.0  0.0  1.603835  0.0  1.697914  0.0  1.781515  0.0  0.0   \n13113  0.0  0.0  1.516346  0.0  1.605294  0.0  1.684334  0.0  0.0   \n13118  0.0  0.0  3.592318  0.0  3.803041  0.0  3.990293  0.0  0.0   \n13148  0.0  0.0  2.372001  0.0  2.511141  0.0  2.634783  0.0  0.0   \n13156  0.0  0.0  2.923331  0.0  3.094811  0.0  3.247192  0.0  0.0   \n13193  0.0  0.0  2.745714  0.0  2.906775  0.0  3.049898  0.0  0.0   \n13197  0.0  0.0  2.741565  0.0  2.902384  0.0  3.045290  0.0  0.0   \n13206  0.0  0.0  2.296957  0.0  2.431694  0.0  2.551425  0.0  0.0   \n13208  0.0  0.0  2.741565  0.0  2.902384  0.0  3.045290  0.0  0.0   \n13217  0.0  0.0  2.197024  0.0  2.325899  0.0  2.440421  0.0  0.0   \n13220  0.0  0.0  3.107736  0.0  3.290033  0.0  3.452027  0.0  0.0   \n13233  0.0  0.0  1.603835  0.0  1.697914  0.0  1.781515  0.0  0.0   \n13249  0.0  0.0  3.344182  0.0  3.540349  0.0  3.714667  0.0  0.0   \n13255  0.0  0.0  6.072549  0.0  6.428760  0.0  6.745296  0.0  0.0   \n13293  0.0  0.0  3.034577  0.0  3.212583  0.0  3.370763  0.0  0.0   \n13296  0.0  0.0  3.112638  0.0  3.295223  0.0  3.457472  0.0  0.0   \n13334  0.0  0.0  7.669219  0.0  8.119088  0.0  8.518853  0.0  0.0   \n13338  0.0  0.0  6.637077  0.0  7.026403  0.0  7.372366  0.0  0.0   \n13350  0.0  0.0  2.905607  0.0  3.076047  0.0  3.227504  0.0  0.0   \n13389  0.0  0.0  3.112638  0.0  3.295223  0.0  3.457472  0.0  0.0   \n13426  0.0  0.0  2.677835  0.0  2.834914  0.0  2.974499  0.0  0.0   \n13440  0.0  0.0  2.921068  0.0  3.092416  0.0  3.244679  0.0  0.0   \n13465  0.0  0.0  3.107736  0.0  3.290033  0.0  3.452027  0.0  0.0   \n13524  0.0  0.0  1.919473  0.0  2.032068  0.0  2.132122  0.0  0.0   \n13529  0.0  0.0  6.491514  0.0  6.872301  0.0  7.210677  0.0  0.0   \n\n                 wex  \n12558   87473.679688  \n12562  113366.039062  \n12566   40004.343750  \n12567   46825.242188  \n12642   87473.679688  \n12673   38026.992188  \n12682   26381.871094  \n12696   33653.632812  \n12794   33653.632812  \n12805   37859.531250  \n12817   86790.945312  \n12885   38278.187500  \n12898   41195.910156  \n12899   37537.484375  \n12985   49627.027344  \n13025  128321.781250  \n13056  113366.039062  \n13061   37125.269531  \n13065   43269.875000  \n13096   95544.109375  \n13108   27393.089844  \n13113   25898.804688  \n13118   61355.882812  \n13148   40513.175781  \n13156   49929.750000  \n13193   46896.093750  \n13197   46825.242188  \n13206   39231.437500  \n13208   46825.242188  \n13217   37524.605469  \n13220   53079.343750  \n13233   27393.089844  \n13249   57117.781250  \n13255  103717.593750  \n13293   51829.812500  \n13296   53163.074219  \n13334  130988.304688  \n13338  113359.601562  \n13350   49627.027344  \n13389   53163.074219  \n13426   45736.734375  \n13440   49891.105469  \n13465   53079.343750  \n13524   32784.109375  \n13529  110873.414062  \n\n[45 rows x 160 columns]",
      "text/html": "<div>\n<style scoped>\n    .dataframe tbody tr th:only-of-type {\n        vertical-align: middle;\n    }\n\n    .dataframe tbody tr th {\n        vertical-align: top;\n    }\n\n    .dataframe thead th {\n        text-align: right;\n    }\n</style>\n<table border=\"1\" class=\"dataframe\">\n  <thead>\n    <tr style=\"text-align: right;\">\n      <th></th>\n      <th>caseid</th>\n      <th>uniqid</th>\n      <th>tnscntry</th>\n      <th>country</th>\n      <th>isocntry</th>\n      <th>mode</th>\n      <th>q1_1</th>\n      <th>q1_2</th>\n      <th>q1_3</th>\n      <th>q1_4</th>\n      <th>...</th>\n      <th>w82</th>\n      <th>w84</th>\n      <th>w89</th>\n      <th>w90</th>\n      <th>w95</th>\n      <th>w96</th>\n      <th>w97</th>\n      <th>w83</th>\n      <th>w98</th>\n      <th>wex</th>\n    </tr>\n  </thead>\n  <tbody>\n    <tr>\n      <th>12558</th>\n      <td>12559</td>\n      <td>3012559</td>\n      <td>DEUTSCHLAND</td>\n      <td>DE - Germany</td>\n      <td>DE</td>\n      <td>Fixed telephone line</td>\n      <td>Not mentioned</td>\n      <td>Not mentioned</td>\n      <td>Shops and retailers</td>\n      <td>no  Hospitality and food service sectors</td>\n      <td>...</td>\n      <td>0.0</td>\n      <td>0.0</td>\n      <td>5.121486</td>\n      <td>0.0</td>\n      <td>5.421908</td>\n      <td>0.0</td>\n      <td>5.688869</td>\n      <td>0.0</td>\n      <td>0.0</td>\n      <td>87473.679688</td>\n    </tr>\n    <tr>\n      <th>12562</th>\n      <td>12563</td>\n      <td>3012563</td>\n      <td>DEUTSCHLAND</td>\n      <td>DE - Germany</td>\n      <td>DE</td>\n      <td>Fixed telephone line</td>\n      <td>Not mentioned</td>\n      <td>Not mentioned</td>\n      <td>Not mentioned</td>\n      <td>Not mentioned</td>\n      <td>...</td>\n      <td>0.0</td>\n      <td>0.0</td>\n      <td>6.637455</td>\n      <td>0.0</td>\n      <td>7.026802</td>\n      <td>0.0</td>\n      <td>7.372785</td>\n      <td>0.0</td>\n      <td>0.0</td>\n      <td>113366.039062</td>\n    </tr>\n    <tr>\n      <th>12566</th>\n      <td>12567</td>\n      <td>3012567</td>\n      <td>DEUTSCHLAND</td>\n      <td>DE - Germany</td>\n      <td>DE</td>\n      <td>Fixed telephone line</td>\n      <td>Not mentioned</td>\n      <td>Not mentioned</td>\n      <td>Not mentioned</td>\n      <td>no  Hospitality and food service sectors</td>\n      <td>...</td>\n      <td>0.0</td>\n      <td>0.0</td>\n      <td>2.342210</td>\n      <td>0.0</td>\n      <td>2.479602</td>\n      <td>0.0</td>\n      <td>2.601691</td>\n      <td>0.0</td>\n      <td>0.0</td>\n      <td>40004.343750</td>\n    </tr>\n    <tr>\n      <th>12567</th>\n      <td>12568</td>\n      <td>3012568</td>\n      <td>DEUTSCHLAND</td>\n      <td>DE - Germany</td>\n      <td>DE</td>\n      <td>Fixed telephone line</td>\n      <td>Not mentioned</td>\n      <td>Food manufacturers</td>\n      <td>Shops and retailers</td>\n      <td>Not mentioned</td>\n      <td>...</td>\n      <td>0.0</td>\n      <td>0.0</td>\n      <td>2.741565</td>\n      <td>0.0</td>\n      <td>2.902384</td>\n      <td>0.0</td>\n      <td>3.045290</td>\n      <td>0.0</td>\n      <td>0.0</td>\n      <td>46825.242188</td>\n    </tr>\n    <tr>\n      <th>12642</th>\n      <td>12643</td>\n      <td>3012643</td>\n      <td>DEUTSCHLAND</td>\n      <td>DE - Germany</td>\n      <td>DE</td>\n      <td>Fixed telephone line</td>\n      <td>Not mentioned</td>\n      <td>Not mentioned</td>\n      <td>Not mentioned</td>\n      <td>Not mentioned</td>\n      <td>...</td>\n      <td>0.0</td>\n      <td>0.0</td>\n      <td>5.121486</td>\n      <td>0.0</td>\n      <td>5.421908</td>\n      <td>0.0</td>\n      <td>5.688869</td>\n      <td>0.0</td>\n      <td>0.0</td>\n      <td>87473.679688</td>\n    </tr>\n    <tr>\n      <th>12673</th>\n      <td>12674</td>\n      <td>3012674</td>\n      <td>DEUTSCHLAND</td>\n      <td>DE - Germany</td>\n      <td>DE</td>\n      <td>Fixed telephone line</td>\n      <td>Not mentioned</td>\n      <td>Not mentioned</td>\n      <td>Not mentioned</td>\n      <td>Not mentioned</td>\n      <td>...</td>\n      <td>0.0</td>\n      <td>0.0</td>\n      <td>2.226438</td>\n      <td>0.0</td>\n      <td>2.357039</td>\n      <td>0.0</td>\n      <td>2.473094</td>\n      <td>0.0</td>\n      <td>0.0</td>\n      <td>38026.992188</td>\n    </tr>\n    <tr>\n      <th>12682</th>\n      <td>12683</td>\n      <td>3012683</td>\n      <td>DEUTSCHLAND</td>\n      <td>DE - Germany</td>\n      <td>DE</td>\n      <td>Fixed telephone line</td>\n      <td>Farmers</td>\n      <td>Not mentioned</td>\n      <td>Not mentioned</td>\n      <td>Not mentioned</td>\n      <td>...</td>\n      <td>0.0</td>\n      <td>0.0</td>\n      <td>1.544629</td>\n      <td>0.0</td>\n      <td>1.635236</td>\n      <td>0.0</td>\n      <td>1.715751</td>\n      <td>0.0</td>\n      <td>0.0</td>\n      <td>26381.871094</td>\n    </tr>\n    <tr>\n      <th>12696</th>\n      <td>12697</td>\n      <td>3012697</td>\n      <td>DEUTSCHLAND</td>\n      <td>DE - Germany</td>\n      <td>DE</td>\n      <td>Fixed telephone line</td>\n      <td>Farmers</td>\n      <td>Food manufacturers</td>\n      <td>Shops and retailers</td>\n      <td>no  Hospitality and food service sectors</td>\n      <td>...</td>\n      <td>0.0</td>\n      <td>0.0</td>\n      <td>1.970382</td>\n      <td>0.0</td>\n      <td>2.085963</td>\n      <td>0.0</td>\n      <td>2.188671</td>\n      <td>0.0</td>\n      <td>0.0</td>\n      <td>33653.632812</td>\n    </tr>\n    <tr>\n      <th>12794</th>\n      <td>12795</td>\n      <td>3012795</td>\n      <td>DEUTSCHLAND</td>\n      <td>DE - Germany</td>\n      <td>DE</td>\n      <td>Fixed telephone line</td>\n      <td>Farmers</td>\n      <td>Food manufacturers</td>\n      <td>Shops and retailers</td>\n      <td>no  Hospitality and food service sectors</td>\n      <td>...</td>\n      <td>0.0</td>\n      <td>0.0</td>\n      <td>1.970382</td>\n      <td>0.0</td>\n      <td>2.085963</td>\n      <td>0.0</td>\n      <td>2.188671</td>\n      <td>0.0</td>\n      <td>0.0</td>\n      <td>33653.632812</td>\n    </tr>\n    <tr>\n      <th>12805</th>\n      <td>12806</td>\n      <td>3012806</td>\n      <td>DEUTSCHLAND</td>\n      <td>DE - Germany</td>\n      <td>DE</td>\n      <td>Fixed telephone line</td>\n      <td>Not mentioned</td>\n      <td>Not mentioned</td>\n      <td>Not mentioned</td>\n      <td>Not mentioned</td>\n      <td>...</td>\n      <td>0.0</td>\n      <td>0.0</td>\n      <td>2.216633</td>\n      <td>0.0</td>\n      <td>2.346659</td>\n      <td>0.0</td>\n      <td>2.462203</td>\n      <td>0.0</td>\n      <td>0.0</td>\n      <td>37859.531250</td>\n    </tr>\n    <tr>\n      <th>12817</th>\n      <td>12818</td>\n      <td>3012818</td>\n      <td>DEUTSCHLAND</td>\n      <td>DE - Germany</td>\n      <td>DE</td>\n      <td>Mobile phone line</td>\n      <td>Not mentioned</td>\n      <td>Not mentioned</td>\n      <td>Not mentioned</td>\n      <td>no  Hospitality and food service sectors</td>\n      <td>...</td>\n      <td>0.0</td>\n      <td>0.0</td>\n      <td>5.081512</td>\n      <td>0.0</td>\n      <td>5.379590</td>\n      <td>0.0</td>\n      <td>5.644468</td>\n      <td>0.0</td>\n      <td>0.0</td>\n      <td>86790.945312</td>\n    </tr>\n    <tr>\n      <th>12885</th>\n      <td>12886</td>\n      <td>3012886</td>\n      <td>DEUTSCHLAND</td>\n      <td>DE - Germany</td>\n      <td>DE</td>\n      <td>Fixed telephone line</td>\n      <td>Farmers</td>\n      <td>Food manufacturers</td>\n      <td>Shops and retailers</td>\n      <td>no  Hospitality and food service sectors</td>\n      <td>...</td>\n      <td>0.0</td>\n      <td>0.0</td>\n      <td>2.241145</td>\n      <td>0.0</td>\n      <td>2.372609</td>\n      <td>0.0</td>\n      <td>2.489430</td>\n      <td>0.0</td>\n      <td>0.0</td>\n      <td>38278.187500</td>\n    </tr>\n    <tr>\n      <th>12898</th>\n      <td>12899</td>\n      <td>3012899</td>\n      <td>DEUTSCHLAND</td>\n      <td>DE - Germany</td>\n      <td>DE</td>\n      <td>Fixed telephone line</td>\n      <td>Not mentioned</td>\n      <td>Not mentioned</td>\n      <td>Shops and retailers</td>\n      <td>Not mentioned</td>\n      <td>...</td>\n      <td>0.0</td>\n      <td>0.0</td>\n      <td>2.411974</td>\n      <td>0.0</td>\n      <td>2.553459</td>\n      <td>0.0</td>\n      <td>2.679185</td>\n      <td>0.0</td>\n      <td>0.0</td>\n      <td>41195.910156</td>\n    </tr>\n    <tr>\n      <th>12899</th>\n      <td>12900</td>\n      <td>3012900</td>\n      <td>DEUTSCHLAND</td>\n      <td>DE - Germany</td>\n      <td>DE</td>\n      <td>Fixed telephone line</td>\n      <td>Not mentioned</td>\n      <td>Not mentioned</td>\n      <td>Not mentioned</td>\n      <td>Not mentioned</td>\n      <td>...</td>\n      <td>0.0</td>\n      <td>0.0</td>\n      <td>2.197778</td>\n      <td>0.0</td>\n      <td>2.326698</td>\n      <td>0.0</td>\n      <td>2.441258</td>\n      <td>0.0</td>\n      <td>0.0</td>\n      <td>37537.484375</td>\n    </tr>\n    <tr>\n      <th>12985</th>\n      <td>12986</td>\n      <td>3012986</td>\n      <td>DEUTSCHLAND</td>\n      <td>DE - Germany</td>\n      <td>DE</td>\n      <td>Fixed telephone line</td>\n      <td>Not mentioned</td>\n      <td>Not mentioned</td>\n      <td>Not mentioned</td>\n      <td>Not mentioned</td>\n      <td>...</td>\n      <td>0.0</td>\n      <td>0.0</td>\n      <td>2.905607</td>\n      <td>0.0</td>\n      <td>3.076047</td>\n      <td>0.0</td>\n      <td>3.227504</td>\n      <td>0.0</td>\n      <td>0.0</td>\n      <td>49627.027344</td>\n    </tr>\n    <tr>\n      <th>13025</th>\n      <td>13026</td>\n      <td>3013026</td>\n      <td>DEUTSCHLAND</td>\n      <td>DE - Germany</td>\n      <td>DE</td>\n      <td>Fixed telephone line</td>\n      <td>Not mentioned</td>\n      <td>Not mentioned</td>\n      <td>Not mentioned</td>\n      <td>Not mentioned</td>\n      <td>...</td>\n      <td>0.0</td>\n      <td>0.0</td>\n      <td>7.513096</td>\n      <td>0.0</td>\n      <td>7.953808</td>\n      <td>0.0</td>\n      <td>8.345435</td>\n      <td>0.0</td>\n      <td>0.0</td>\n      <td>128321.781250</td>\n    </tr>\n    <tr>\n      <th>13056</th>\n      <td>13057</td>\n      <td>3013057</td>\n      <td>DEUTSCHLAND</td>\n      <td>DE - Germany</td>\n      <td>DE</td>\n      <td>Fixed telephone line</td>\n      <td>Not mentioned</td>\n      <td>Food manufacturers</td>\n      <td>Not mentioned</td>\n      <td>Not mentioned</td>\n      <td>...</td>\n      <td>0.0</td>\n      <td>0.0</td>\n      <td>6.637455</td>\n      <td>0.0</td>\n      <td>7.026802</td>\n      <td>0.0</td>\n      <td>7.372785</td>\n      <td>0.0</td>\n      <td>0.0</td>\n      <td>113366.039062</td>\n    </tr>\n    <tr>\n      <th>13061</th>\n      <td>13062</td>\n      <td>3013062</td>\n      <td>DEUTSCHLAND</td>\n      <td>DE - Germany</td>\n      <td>DE</td>\n      <td>Fixed telephone line</td>\n      <td>Farmers</td>\n      <td>Food manufacturers</td>\n      <td>Shops and retailers</td>\n      <td>no  Hospitality and food service sectors</td>\n      <td>...</td>\n      <td>0.0</td>\n      <td>0.0</td>\n      <td>2.173643</td>\n      <td>0.0</td>\n      <td>2.301147</td>\n      <td>0.0</td>\n      <td>2.414450</td>\n      <td>0.0</td>\n      <td>0.0</td>\n      <td>37125.269531</td>\n    </tr>\n    <tr>\n      <th>13065</th>\n      <td>13066</td>\n      <td>3013066</td>\n      <td>DEUTSCHLAND</td>\n      <td>DE - Germany</td>\n      <td>DE</td>\n      <td>Fixed telephone line</td>\n      <td>Not mentioned</td>\n      <td>Not mentioned</td>\n      <td>Shops and retailers</td>\n      <td>Not mentioned</td>\n      <td>...</td>\n      <td>0.0</td>\n      <td>0.0</td>\n      <td>2.533403</td>\n      <td>0.0</td>\n      <td>2.682010</td>\n      <td>0.0</td>\n      <td>2.814066</td>\n      <td>0.0</td>\n      <td>0.0</td>\n      <td>43269.875000</td>\n    </tr>\n    <tr>\n      <th>13096</th>\n      <td>13097</td>\n      <td>3013097</td>\n      <td>DEUTSCHLAND</td>\n      <td>DE - Germany</td>\n      <td>DE</td>\n      <td>Fixed telephone line</td>\n      <td>Farmers</td>\n      <td>Food manufacturers</td>\n      <td>Shops and retailers</td>\n      <td>no  Hospitality and food service sectors</td>\n      <td>...</td>\n      <td>0.0</td>\n      <td>0.0</td>\n      <td>5.594000</td>\n      <td>0.0</td>\n      <td>5.922140</td>\n      <td>0.0</td>\n      <td>6.213732</td>\n      <td>0.0</td>\n      <td>0.0</td>\n      <td>95544.109375</td>\n    </tr>\n    <tr>\n      <th>13108</th>\n      <td>13109</td>\n      <td>3013109</td>\n      <td>DEUTSCHLAND</td>\n      <td>DE - Germany</td>\n      <td>DE</td>\n      <td>Fixed telephone line</td>\n      <td>Not mentioned</td>\n      <td>Not mentioned</td>\n      <td>Shops and retailers</td>\n      <td>no  Hospitality and food service sectors</td>\n      <td>...</td>\n      <td>0.0</td>\n      <td>0.0</td>\n      <td>1.603835</td>\n      <td>0.0</td>\n      <td>1.697914</td>\n      <td>0.0</td>\n      <td>1.781515</td>\n      <td>0.0</td>\n      <td>0.0</td>\n      <td>27393.089844</td>\n    </tr>\n    <tr>\n      <th>13113</th>\n      <td>13114</td>\n      <td>3013114</td>\n      <td>DEUTSCHLAND</td>\n      <td>DE - Germany</td>\n      <td>DE</td>\n      <td>Fixed telephone line</td>\n      <td>Not mentioned</td>\n      <td>Not mentioned</td>\n      <td>Not mentioned</td>\n      <td>Not mentioned</td>\n      <td>...</td>\n      <td>0.0</td>\n      <td>0.0</td>\n      <td>1.516346</td>\n      <td>0.0</td>\n      <td>1.605294</td>\n      <td>0.0</td>\n      <td>1.684334</td>\n      <td>0.0</td>\n      <td>0.0</td>\n      <td>25898.804688</td>\n    </tr>\n    <tr>\n      <th>13118</th>\n      <td>13119</td>\n      <td>3013119</td>\n      <td>DEUTSCHLAND</td>\n      <td>DE - Germany</td>\n      <td>DE</td>\n      <td>Fixed telephone line</td>\n      <td>Not mentioned</td>\n      <td>Food manufacturers</td>\n      <td>Shops and retailers</td>\n      <td>no  Hospitality and food service sectors</td>\n      <td>...</td>\n      <td>0.0</td>\n      <td>0.0</td>\n      <td>3.592318</td>\n      <td>0.0</td>\n      <td>3.803041</td>\n      <td>0.0</td>\n      <td>3.990293</td>\n      <td>0.0</td>\n      <td>0.0</td>\n      <td>61355.882812</td>\n    </tr>\n    <tr>\n      <th>13148</th>\n      <td>13149</td>\n      <td>3013149</td>\n      <td>DEUTSCHLAND</td>\n      <td>DE - Germany</td>\n      <td>DE</td>\n      <td>Fixed telephone line</td>\n      <td>Farmers</td>\n      <td>Food manufacturers</td>\n      <td>Shops and retailers</td>\n      <td>no  Hospitality and food service sectors</td>\n      <td>...</td>\n      <td>0.0</td>\n      <td>0.0</td>\n      <td>2.372001</td>\n      <td>0.0</td>\n      <td>2.511141</td>\n      <td>0.0</td>\n      <td>2.634783</td>\n      <td>0.0</td>\n      <td>0.0</td>\n      <td>40513.175781</td>\n    </tr>\n    <tr>\n      <th>13156</th>\n      <td>13157</td>\n      <td>3013157</td>\n      <td>DEUTSCHLAND</td>\n      <td>DE - Germany</td>\n      <td>DE</td>\n      <td>Fixed telephone line</td>\n      <td>Farmers</td>\n      <td>Food manufacturers</td>\n      <td>Shops and retailers</td>\n      <td>no  Hospitality and food service sectors</td>\n      <td>...</td>\n      <td>0.0</td>\n      <td>0.0</td>\n      <td>2.923331</td>\n      <td>0.0</td>\n      <td>3.094811</td>\n      <td>0.0</td>\n      <td>3.247192</td>\n      <td>0.0</td>\n      <td>0.0</td>\n      <td>49929.750000</td>\n    </tr>\n    <tr>\n      <th>13193</th>\n      <td>13194</td>\n      <td>3013194</td>\n      <td>DEUTSCHLAND</td>\n      <td>DE - Germany</td>\n      <td>DE</td>\n      <td>Fixed telephone line</td>\n      <td>Farmers</td>\n      <td>Not mentioned</td>\n      <td>Not mentioned</td>\n      <td>Not mentioned</td>\n      <td>...</td>\n      <td>0.0</td>\n      <td>0.0</td>\n      <td>2.745714</td>\n      <td>0.0</td>\n      <td>2.906775</td>\n      <td>0.0</td>\n      <td>3.049898</td>\n      <td>0.0</td>\n      <td>0.0</td>\n      <td>46896.093750</td>\n    </tr>\n    <tr>\n      <th>13197</th>\n      <td>13198</td>\n      <td>3013198</td>\n      <td>DEUTSCHLAND</td>\n      <td>DE - Germany</td>\n      <td>DE</td>\n      <td>Fixed telephone line</td>\n      <td>Farmers</td>\n      <td>Food manufacturers</td>\n      <td>Shops and retailers</td>\n      <td>no  Hospitality and food service sectors</td>\n      <td>...</td>\n      <td>0.0</td>\n      <td>0.0</td>\n      <td>2.741565</td>\n      <td>0.0</td>\n      <td>2.902384</td>\n      <td>0.0</td>\n      <td>3.045290</td>\n      <td>0.0</td>\n      <td>0.0</td>\n      <td>46825.242188</td>\n    </tr>\n    <tr>\n      <th>13206</th>\n      <td>13207</td>\n      <td>3013207</td>\n      <td>DEUTSCHLAND</td>\n      <td>DE - Germany</td>\n      <td>DE</td>\n      <td>Fixed telephone line</td>\n      <td>Not mentioned</td>\n      <td>Not mentioned</td>\n      <td>Not mentioned</td>\n      <td>Not mentioned</td>\n      <td>...</td>\n      <td>0.0</td>\n      <td>0.0</td>\n      <td>2.296957</td>\n      <td>0.0</td>\n      <td>2.431694</td>\n      <td>0.0</td>\n      <td>2.551425</td>\n      <td>0.0</td>\n      <td>0.0</td>\n      <td>39231.437500</td>\n    </tr>\n    <tr>\n      <th>13208</th>\n      <td>13209</td>\n      <td>3013209</td>\n      <td>DEUTSCHLAND</td>\n      <td>DE - Germany</td>\n      <td>DE</td>\n      <td>Fixed telephone line</td>\n      <td>Farmers</td>\n      <td>Food manufacturers</td>\n      <td>Shops and retailers</td>\n      <td>Not mentioned</td>\n      <td>...</td>\n      <td>0.0</td>\n      <td>0.0</td>\n      <td>2.741565</td>\n      <td>0.0</td>\n      <td>2.902384</td>\n      <td>0.0</td>\n      <td>3.045290</td>\n      <td>0.0</td>\n      <td>0.0</td>\n      <td>46825.242188</td>\n    </tr>\n    <tr>\n      <th>13217</th>\n      <td>13218</td>\n      <td>3013218</td>\n      <td>DEUTSCHLAND</td>\n      <td>DE - Germany</td>\n      <td>DE</td>\n      <td>Fixed telephone line</td>\n      <td>Farmers</td>\n      <td>Not mentioned</td>\n      <td>Shops and retailers</td>\n      <td>no  Hospitality and food service sectors</td>\n      <td>...</td>\n      <td>0.0</td>\n      <td>0.0</td>\n      <td>2.197024</td>\n      <td>0.0</td>\n      <td>2.325899</td>\n      <td>0.0</td>\n      <td>2.440421</td>\n      <td>0.0</td>\n      <td>0.0</td>\n      <td>37524.605469</td>\n    </tr>\n    <tr>\n      <th>13220</th>\n      <td>13221</td>\n      <td>3013221</td>\n      <td>DEUTSCHLAND</td>\n      <td>DE - Germany</td>\n      <td>DE</td>\n      <td>Fixed telephone line</td>\n      <td>Farmers</td>\n      <td>Not mentioned</td>\n      <td>Not mentioned</td>\n      <td>Not mentioned</td>\n      <td>...</td>\n      <td>0.0</td>\n      <td>0.0</td>\n      <td>3.107736</td>\n      <td>0.0</td>\n      <td>3.290033</td>\n      <td>0.0</td>\n      <td>3.452027</td>\n      <td>0.0</td>\n      <td>0.0</td>\n      <td>53079.343750</td>\n    </tr>\n    <tr>\n      <th>13233</th>\n      <td>13234</td>\n      <td>3013234</td>\n      <td>DEUTSCHLAND</td>\n      <td>DE - Germany</td>\n      <td>DE</td>\n      <td>Fixed telephone line</td>\n      <td>Not mentioned</td>\n      <td>Food manufacturers</td>\n      <td>Shops and retailers</td>\n      <td>Not mentioned</td>\n      <td>...</td>\n      <td>0.0</td>\n      <td>0.0</td>\n      <td>1.603835</td>\n      <td>0.0</td>\n      <td>1.697914</td>\n      <td>0.0</td>\n      <td>1.781515</td>\n      <td>0.0</td>\n      <td>0.0</td>\n      <td>27393.089844</td>\n    </tr>\n    <tr>\n      <th>13249</th>\n      <td>13250</td>\n      <td>3013250</td>\n      <td>DEUTSCHLAND</td>\n      <td>DE - Germany</td>\n      <td>DE</td>\n      <td>Fixed telephone line</td>\n      <td>Not mentioned</td>\n      <td>Not mentioned</td>\n      <td>Shops and retailers</td>\n      <td>Not mentioned</td>\n      <td>...</td>\n      <td>0.0</td>\n      <td>0.0</td>\n      <td>3.344182</td>\n      <td>0.0</td>\n      <td>3.540349</td>\n      <td>0.0</td>\n      <td>3.714667</td>\n      <td>0.0</td>\n      <td>0.0</td>\n      <td>57117.781250</td>\n    </tr>\n    <tr>\n      <th>13255</th>\n      <td>13256</td>\n      <td>3013256</td>\n      <td>DEUTSCHLAND</td>\n      <td>DE - Germany</td>\n      <td>DE</td>\n      <td>Fixed telephone line</td>\n      <td>Not mentioned</td>\n      <td>Not mentioned</td>\n      <td>Shops and retailers</td>\n      <td>Not mentioned</td>\n      <td>...</td>\n      <td>0.0</td>\n      <td>0.0</td>\n      <td>6.072549</td>\n      <td>0.0</td>\n      <td>6.428760</td>\n      <td>0.0</td>\n      <td>6.745296</td>\n      <td>0.0</td>\n      <td>0.0</td>\n      <td>103717.593750</td>\n    </tr>\n    <tr>\n      <th>13293</th>\n      <td>13294</td>\n      <td>3013294</td>\n      <td>DEUTSCHLAND</td>\n      <td>DE - Germany</td>\n      <td>DE</td>\n      <td>Fixed telephone line</td>\n      <td>Not mentioned</td>\n      <td>Not mentioned</td>\n      <td>Not mentioned</td>\n      <td>Not mentioned</td>\n      <td>...</td>\n      <td>0.0</td>\n      <td>0.0</td>\n      <td>3.034577</td>\n      <td>0.0</td>\n      <td>3.212583</td>\n      <td>0.0</td>\n      <td>3.370763</td>\n      <td>0.0</td>\n      <td>0.0</td>\n      <td>51829.812500</td>\n    </tr>\n    <tr>\n      <th>13296</th>\n      <td>13297</td>\n      <td>3013297</td>\n      <td>DEUTSCHLAND</td>\n      <td>DE - Germany</td>\n      <td>DE</td>\n      <td>Fixed telephone line</td>\n      <td>Not mentioned</td>\n      <td>Not mentioned</td>\n      <td>Not mentioned</td>\n      <td>Not mentioned</td>\n      <td>...</td>\n      <td>0.0</td>\n      <td>0.0</td>\n      <td>3.112638</td>\n      <td>0.0</td>\n      <td>3.295223</td>\n      <td>0.0</td>\n      <td>3.457472</td>\n      <td>0.0</td>\n      <td>0.0</td>\n      <td>53163.074219</td>\n    </tr>\n    <tr>\n      <th>13334</th>\n      <td>13335</td>\n      <td>3013335</td>\n      <td>DEUTSCHLAND</td>\n      <td>DE - Germany</td>\n      <td>DE</td>\n      <td>Fixed telephone line</td>\n      <td>Farmers</td>\n      <td>Not mentioned</td>\n      <td>Shops and retailers</td>\n      <td>no  Hospitality and food service sectors</td>\n      <td>...</td>\n      <td>0.0</td>\n      <td>0.0</td>\n      <td>7.669219</td>\n      <td>0.0</td>\n      <td>8.119088</td>\n      <td>0.0</td>\n      <td>8.518853</td>\n      <td>0.0</td>\n      <td>0.0</td>\n      <td>130988.304688</td>\n    </tr>\n    <tr>\n      <th>13338</th>\n      <td>13339</td>\n      <td>3013339</td>\n      <td>DEUTSCHLAND</td>\n      <td>DE - Germany</td>\n      <td>DE</td>\n      <td>Mobile phone line</td>\n      <td>Not mentioned</td>\n      <td>Not mentioned</td>\n      <td>Not mentioned</td>\n      <td>Not mentioned</td>\n      <td>...</td>\n      <td>0.0</td>\n      <td>0.0</td>\n      <td>6.637077</td>\n      <td>0.0</td>\n      <td>7.026403</td>\n      <td>0.0</td>\n      <td>7.372366</td>\n      <td>0.0</td>\n      <td>0.0</td>\n      <td>113359.601562</td>\n    </tr>\n    <tr>\n      <th>13350</th>\n      <td>13351</td>\n      <td>3013351</td>\n      <td>DEUTSCHLAND</td>\n      <td>DE - Germany</td>\n      <td>DE</td>\n      <td>Fixed telephone line</td>\n      <td>Not mentioned</td>\n      <td>Food manufacturers</td>\n      <td>Shops and retailers</td>\n      <td>no  Hospitality and food service sectors</td>\n      <td>...</td>\n      <td>0.0</td>\n      <td>0.0</td>\n      <td>2.905607</td>\n      <td>0.0</td>\n      <td>3.076047</td>\n      <td>0.0</td>\n      <td>3.227504</td>\n      <td>0.0</td>\n      <td>0.0</td>\n      <td>49627.027344</td>\n    </tr>\n    <tr>\n      <th>13389</th>\n      <td>13390</td>\n      <td>3013390</td>\n      <td>DEUTSCHLAND</td>\n      <td>DE - Germany</td>\n      <td>DE</td>\n      <td>Mobile phone line</td>\n      <td>Not mentioned</td>\n      <td>Food manufacturers</td>\n      <td>Shops and retailers</td>\n      <td>no  Hospitality and food service sectors</td>\n      <td>...</td>\n      <td>0.0</td>\n      <td>0.0</td>\n      <td>3.112638</td>\n      <td>0.0</td>\n      <td>3.295223</td>\n      <td>0.0</td>\n      <td>3.457472</td>\n      <td>0.0</td>\n      <td>0.0</td>\n      <td>53163.074219</td>\n    </tr>\n    <tr>\n      <th>13426</th>\n      <td>13427</td>\n      <td>3013427</td>\n      <td>DEUTSCHLAND</td>\n      <td>DE - Germany</td>\n      <td>DE</td>\n      <td>Fixed telephone line</td>\n      <td>Not mentioned</td>\n      <td>Food manufacturers</td>\n      <td>Shops and retailers</td>\n      <td>Not mentioned</td>\n      <td>...</td>\n      <td>0.0</td>\n      <td>0.0</td>\n      <td>2.677835</td>\n      <td>0.0</td>\n      <td>2.834914</td>\n      <td>0.0</td>\n      <td>2.974499</td>\n      <td>0.0</td>\n      <td>0.0</td>\n      <td>45736.734375</td>\n    </tr>\n    <tr>\n      <th>13440</th>\n      <td>13441</td>\n      <td>3013441</td>\n      <td>DEUTSCHLAND</td>\n      <td>DE - Germany</td>\n      <td>DE</td>\n      <td>Fixed telephone line</td>\n      <td>Not mentioned</td>\n      <td>Not mentioned</td>\n      <td>Not mentioned</td>\n      <td>Not mentioned</td>\n      <td>...</td>\n      <td>0.0</td>\n      <td>0.0</td>\n      <td>2.921068</td>\n      <td>0.0</td>\n      <td>3.092416</td>\n      <td>0.0</td>\n      <td>3.244679</td>\n      <td>0.0</td>\n      <td>0.0</td>\n      <td>49891.105469</td>\n    </tr>\n    <tr>\n      <th>13465</th>\n      <td>13466</td>\n      <td>3013466</td>\n      <td>DEUTSCHLAND</td>\n      <td>DE - Germany</td>\n      <td>DE</td>\n      <td>Fixed telephone line</td>\n      <td>Farmers</td>\n      <td>Food manufacturers</td>\n      <td>Shops and retailers</td>\n      <td>no  Hospitality and food service sectors</td>\n      <td>...</td>\n      <td>0.0</td>\n      <td>0.0</td>\n      <td>3.107736</td>\n      <td>0.0</td>\n      <td>3.290033</td>\n      <td>0.0</td>\n      <td>3.452027</td>\n      <td>0.0</td>\n      <td>0.0</td>\n      <td>53079.343750</td>\n    </tr>\n    <tr>\n      <th>13524</th>\n      <td>13525</td>\n      <td>3013525</td>\n      <td>DEUTSCHLAND</td>\n      <td>DE - Germany</td>\n      <td>DE</td>\n      <td>Fixed telephone line</td>\n      <td>Farmers</td>\n      <td>Food manufacturers</td>\n      <td>Shops and retailers</td>\n      <td>Not mentioned</td>\n      <td>...</td>\n      <td>0.0</td>\n      <td>0.0</td>\n      <td>1.919473</td>\n      <td>0.0</td>\n      <td>2.032068</td>\n      <td>0.0</td>\n      <td>2.132122</td>\n      <td>0.0</td>\n      <td>0.0</td>\n      <td>32784.109375</td>\n    </tr>\n    <tr>\n      <th>13529</th>\n      <td>13530</td>\n      <td>3013530</td>\n      <td>DEUTSCHLAND</td>\n      <td>DE - Germany</td>\n      <td>DE</td>\n      <td>Mobile phone line</td>\n      <td>Not mentioned</td>\n      <td>Food manufacturers</td>\n      <td>Not mentioned</td>\n      <td>Not mentioned</td>\n      <td>...</td>\n      <td>0.0</td>\n      <td>0.0</td>\n      <td>6.491514</td>\n      <td>0.0</td>\n      <td>6.872301</td>\n      <td>0.0</td>\n      <td>7.210677</td>\n      <td>0.0</td>\n      <td>0.0</td>\n      <td>110873.414062</td>\n    </tr>\n  </tbody>\n</table>\n<p>45 rows × 160 columns</p>\n</div>"
     },
     "execution_count": 31,
     "metadata": {},
     "output_type": "execute_result"
    }
   ],
   "source": [
    "# Finde alle Befragten, die nie auf das Verfallsdatum achten\n",
    "# und in Deutschland wohnen\n",
    "data[(data['q3']=='Never') & (data['isocntry']=='DE')]"
   ],
   "metadata": {
    "collapsed": false,
    "pycharm": {
     "name": "#%%\n"
    }
   }
  },
  {
   "cell_type": "code",
   "execution_count": 32,
   "outputs": [
    {
     "data": {
      "text/plain": "       caseid   uniqid     tnscntry       country isocntry  \\\n12538   12539  3012539  DEUTSCHLAND  DE - Germany       DE   \n12558   12559  3012559  DEUTSCHLAND  DE - Germany       DE   \n12562   12563  3012563  DEUTSCHLAND  DE - Germany       DE   \n12565   12566  3012566  DEUTSCHLAND  DE - Germany       DE   \n12566   12567  3012567  DEUTSCHLAND  DE - Germany       DE   \n...       ...      ...          ...           ...      ...   \n13497   13498  3013498  DEUTSCHLAND  DE - Germany       DE   \n13500   13501  3013501  DEUTSCHLAND  DE - Germany       DE   \n13504   13505  3013505  DEUTSCHLAND  DE - Germany       DE   \n13524   13525  3013525  DEUTSCHLAND  DE - Germany       DE   \n13529   13530  3013530  DEUTSCHLAND  DE - Germany       DE   \n\n                       mode           q1_1                q1_2  \\\n12538  Fixed telephone line  Not mentioned       Not mentioned   \n12558  Fixed telephone line  Not mentioned       Not mentioned   \n12562  Fixed telephone line  Not mentioned       Not mentioned   \n12565  Fixed telephone line        Farmers  Food manufacturers   \n12566  Fixed telephone line  Not mentioned       Not mentioned   \n...                     ...            ...                 ...   \n13497  Fixed telephone line        Farmers  Food manufacturers   \n13500  Fixed telephone line  Not mentioned       Not mentioned   \n13504  Fixed telephone line        Farmers  Food manufacturers   \n13524  Fixed telephone line        Farmers  Food manufacturers   \n13529     Mobile phone line  Not mentioned  Food manufacturers   \n\n                      q1_3                                      q1_4  ...  \\\n12538  Shops and retailers                             Not mentioned  ...   \n12558  Shops and retailers  no  Hospitality and food service sectors  ...   \n12562        Not mentioned                             Not mentioned  ...   \n12565  Shops and retailers  no  Hospitality and food service sectors  ...   \n12566        Not mentioned  no  Hospitality and food service sectors  ...   \n...                    ...                                       ...  ...   \n13497  Shops and retailers  no  Hospitality and food service sectors  ...   \n13500        Not mentioned                             Not mentioned  ...   \n13504  Shops and retailers  no  Hospitality and food service sectors  ...   \n13524  Shops and retailers                             Not mentioned  ...   \n13529        Not mentioned                             Not mentioned  ...   \n\n       w82  w84       w89  w90       w95  w96       w97  w83  w98  \\\n12538  0.0  0.0  3.592318  0.0  3.803041  0.0  3.990293  0.0  0.0   \n12558  0.0  0.0  5.121486  0.0  5.421908  0.0  5.688869  0.0  0.0   \n12562  0.0  0.0  6.637455  0.0  7.026802  0.0  7.372785  0.0  0.0   \n12565  0.0  0.0  2.917674  0.0  3.088823  0.0  3.240909  0.0  0.0   \n12566  0.0  0.0  2.342210  0.0  2.479602  0.0  2.601691  0.0  0.0   \n...    ...  ...       ...  ...       ...  ...       ...  ...  ...   \n13497  0.0  0.0  1.611377  0.0  1.705899  0.0  1.789893  0.0  0.0   \n13500  0.0  0.0  2.364459  0.0  2.503156  0.0  2.626405  0.0  0.0   \n13504  0.0  0.0  7.056420  0.0  7.470344  0.0  7.838166  0.0  0.0   \n13524  0.0  0.0  1.919473  0.0  2.032068  0.0  2.132122  0.0  0.0   \n13529  0.0  0.0  6.491514  0.0  6.872301  0.0  7.210677  0.0  0.0   \n\n                 wex  \n12538   61355.882812  \n12558   87473.679688  \n12562  113366.039062  \n12565   49833.136719  \n12566   40004.343750  \n...              ...  \n13497   27521.906250  \n13500   40384.355469  \n13504  120521.867188  \n13524   32784.109375  \n13529  110873.414062  \n\n[131 rows x 160 columns]",
      "text/html": "<div>\n<style scoped>\n    .dataframe tbody tr th:only-of-type {\n        vertical-align: middle;\n    }\n\n    .dataframe tbody tr th {\n        vertical-align: top;\n    }\n\n    .dataframe thead th {\n        text-align: right;\n    }\n</style>\n<table border=\"1\" class=\"dataframe\">\n  <thead>\n    <tr style=\"text-align: right;\">\n      <th></th>\n      <th>caseid</th>\n      <th>uniqid</th>\n      <th>tnscntry</th>\n      <th>country</th>\n      <th>isocntry</th>\n      <th>mode</th>\n      <th>q1_1</th>\n      <th>q1_2</th>\n      <th>q1_3</th>\n      <th>q1_4</th>\n      <th>...</th>\n      <th>w82</th>\n      <th>w84</th>\n      <th>w89</th>\n      <th>w90</th>\n      <th>w95</th>\n      <th>w96</th>\n      <th>w97</th>\n      <th>w83</th>\n      <th>w98</th>\n      <th>wex</th>\n    </tr>\n  </thead>\n  <tbody>\n    <tr>\n      <th>12538</th>\n      <td>12539</td>\n      <td>3012539</td>\n      <td>DEUTSCHLAND</td>\n      <td>DE - Germany</td>\n      <td>DE</td>\n      <td>Fixed telephone line</td>\n      <td>Not mentioned</td>\n      <td>Not mentioned</td>\n      <td>Shops and retailers</td>\n      <td>Not mentioned</td>\n      <td>...</td>\n      <td>0.0</td>\n      <td>0.0</td>\n      <td>3.592318</td>\n      <td>0.0</td>\n      <td>3.803041</td>\n      <td>0.0</td>\n      <td>3.990293</td>\n      <td>0.0</td>\n      <td>0.0</td>\n      <td>61355.882812</td>\n    </tr>\n    <tr>\n      <th>12558</th>\n      <td>12559</td>\n      <td>3012559</td>\n      <td>DEUTSCHLAND</td>\n      <td>DE - Germany</td>\n      <td>DE</td>\n      <td>Fixed telephone line</td>\n      <td>Not mentioned</td>\n      <td>Not mentioned</td>\n      <td>Shops and retailers</td>\n      <td>no  Hospitality and food service sectors</td>\n      <td>...</td>\n      <td>0.0</td>\n      <td>0.0</td>\n      <td>5.121486</td>\n      <td>0.0</td>\n      <td>5.421908</td>\n      <td>0.0</td>\n      <td>5.688869</td>\n      <td>0.0</td>\n      <td>0.0</td>\n      <td>87473.679688</td>\n    </tr>\n    <tr>\n      <th>12562</th>\n      <td>12563</td>\n      <td>3012563</td>\n      <td>DEUTSCHLAND</td>\n      <td>DE - Germany</td>\n      <td>DE</td>\n      <td>Fixed telephone line</td>\n      <td>Not mentioned</td>\n      <td>Not mentioned</td>\n      <td>Not mentioned</td>\n      <td>Not mentioned</td>\n      <td>...</td>\n      <td>0.0</td>\n      <td>0.0</td>\n      <td>6.637455</td>\n      <td>0.0</td>\n      <td>7.026802</td>\n      <td>0.0</td>\n      <td>7.372785</td>\n      <td>0.0</td>\n      <td>0.0</td>\n      <td>113366.039062</td>\n    </tr>\n    <tr>\n      <th>12565</th>\n      <td>12566</td>\n      <td>3012566</td>\n      <td>DEUTSCHLAND</td>\n      <td>DE - Germany</td>\n      <td>DE</td>\n      <td>Fixed telephone line</td>\n      <td>Farmers</td>\n      <td>Food manufacturers</td>\n      <td>Shops and retailers</td>\n      <td>no  Hospitality and food service sectors</td>\n      <td>...</td>\n      <td>0.0</td>\n      <td>0.0</td>\n      <td>2.917674</td>\n      <td>0.0</td>\n      <td>3.088823</td>\n      <td>0.0</td>\n      <td>3.240909</td>\n      <td>0.0</td>\n      <td>0.0</td>\n      <td>49833.136719</td>\n    </tr>\n    <tr>\n      <th>12566</th>\n      <td>12567</td>\n      <td>3012567</td>\n      <td>DEUTSCHLAND</td>\n      <td>DE - Germany</td>\n      <td>DE</td>\n      <td>Fixed telephone line</td>\n      <td>Not mentioned</td>\n      <td>Not mentioned</td>\n      <td>Not mentioned</td>\n      <td>no  Hospitality and food service sectors</td>\n      <td>...</td>\n      <td>0.0</td>\n      <td>0.0</td>\n      <td>2.342210</td>\n      <td>0.0</td>\n      <td>2.479602</td>\n      <td>0.0</td>\n      <td>2.601691</td>\n      <td>0.0</td>\n      <td>0.0</td>\n      <td>40004.343750</td>\n    </tr>\n    <tr>\n      <th>...</th>\n      <td>...</td>\n      <td>...</td>\n      <td>...</td>\n      <td>...</td>\n      <td>...</td>\n      <td>...</td>\n      <td>...</td>\n      <td>...</td>\n      <td>...</td>\n      <td>...</td>\n      <td>...</td>\n      <td>...</td>\n      <td>...</td>\n      <td>...</td>\n      <td>...</td>\n      <td>...</td>\n      <td>...</td>\n      <td>...</td>\n      <td>...</td>\n      <td>...</td>\n      <td>...</td>\n    </tr>\n    <tr>\n      <th>13497</th>\n      <td>13498</td>\n      <td>3013498</td>\n      <td>DEUTSCHLAND</td>\n      <td>DE - Germany</td>\n      <td>DE</td>\n      <td>Fixed telephone line</td>\n      <td>Farmers</td>\n      <td>Food manufacturers</td>\n      <td>Shops and retailers</td>\n      <td>no  Hospitality and food service sectors</td>\n      <td>...</td>\n      <td>0.0</td>\n      <td>0.0</td>\n      <td>1.611377</td>\n      <td>0.0</td>\n      <td>1.705899</td>\n      <td>0.0</td>\n      <td>1.789893</td>\n      <td>0.0</td>\n      <td>0.0</td>\n      <td>27521.906250</td>\n    </tr>\n    <tr>\n      <th>13500</th>\n      <td>13501</td>\n      <td>3013501</td>\n      <td>DEUTSCHLAND</td>\n      <td>DE - Germany</td>\n      <td>DE</td>\n      <td>Fixed telephone line</td>\n      <td>Not mentioned</td>\n      <td>Not mentioned</td>\n      <td>Not mentioned</td>\n      <td>Not mentioned</td>\n      <td>...</td>\n      <td>0.0</td>\n      <td>0.0</td>\n      <td>2.364459</td>\n      <td>0.0</td>\n      <td>2.503156</td>\n      <td>0.0</td>\n      <td>2.626405</td>\n      <td>0.0</td>\n      <td>0.0</td>\n      <td>40384.355469</td>\n    </tr>\n    <tr>\n      <th>13504</th>\n      <td>13505</td>\n      <td>3013505</td>\n      <td>DEUTSCHLAND</td>\n      <td>DE - Germany</td>\n      <td>DE</td>\n      <td>Fixed telephone line</td>\n      <td>Farmers</td>\n      <td>Food manufacturers</td>\n      <td>Shops and retailers</td>\n      <td>no  Hospitality and food service sectors</td>\n      <td>...</td>\n      <td>0.0</td>\n      <td>0.0</td>\n      <td>7.056420</td>\n      <td>0.0</td>\n      <td>7.470344</td>\n      <td>0.0</td>\n      <td>7.838166</td>\n      <td>0.0</td>\n      <td>0.0</td>\n      <td>120521.867188</td>\n    </tr>\n    <tr>\n      <th>13524</th>\n      <td>13525</td>\n      <td>3013525</td>\n      <td>DEUTSCHLAND</td>\n      <td>DE - Germany</td>\n      <td>DE</td>\n      <td>Fixed telephone line</td>\n      <td>Farmers</td>\n      <td>Food manufacturers</td>\n      <td>Shops and retailers</td>\n      <td>Not mentioned</td>\n      <td>...</td>\n      <td>0.0</td>\n      <td>0.0</td>\n      <td>1.919473</td>\n      <td>0.0</td>\n      <td>2.032068</td>\n      <td>0.0</td>\n      <td>2.132122</td>\n      <td>0.0</td>\n      <td>0.0</td>\n      <td>32784.109375</td>\n    </tr>\n    <tr>\n      <th>13529</th>\n      <td>13530</td>\n      <td>3013530</td>\n      <td>DEUTSCHLAND</td>\n      <td>DE - Germany</td>\n      <td>DE</td>\n      <td>Mobile phone line</td>\n      <td>Not mentioned</td>\n      <td>Food manufacturers</td>\n      <td>Not mentioned</td>\n      <td>Not mentioned</td>\n      <td>...</td>\n      <td>0.0</td>\n      <td>0.0</td>\n      <td>6.491514</td>\n      <td>0.0</td>\n      <td>6.872301</td>\n      <td>0.0</td>\n      <td>7.210677</td>\n      <td>0.0</td>\n      <td>0.0</td>\n      <td>110873.414062</td>\n    </tr>\n  </tbody>\n</table>\n<p>131 rows × 160 columns</p>\n</div>"
     },
     "execution_count": 32,
     "metadata": {},
     "output_type": "execute_result"
    }
   ],
   "source": [
    "# Finde alle Befragten, die nie oder kaum auf das Verfallsdatum achten\n",
    "# und in Deutschland wohnen\n",
    "data[((data['q3']=='Never') | (data['q3']=='Rarely')) & (data['isocntry']=='DE')]"
   ],
   "metadata": {
    "collapsed": false,
    "pycharm": {
     "name": "#%%\n"
    }
   }
  },
  {
   "cell_type": "code",
   "execution_count": 33,
   "outputs": [],
   "source": [
    "# Finde alle Befragten, die nie oder kaum auf das Verfallsdatum achten\n",
    "# und in Deutschland wohnen und schreibe sie in Variable group1\n",
    "group1 = data[((data['q3']=='Never') | (data['q3']=='Rarely')) & (data['isocntry']=='DE')]"
   ],
   "metadata": {
    "collapsed": false,
    "pycharm": {
     "name": "#%%\n"
    }
   }
  },
  {
   "cell_type": "code",
   "execution_count": 34,
   "outputs": [
    {
     "data": {
      "text/plain": "caseid      131\nuniqid      131\ntnscntry    131\ncountry     131\nisocntry    131\n           ... \nw96         131\nw97         131\nw83         131\nw98         131\nwex         131\nLength: 160, dtype: int64"
     },
     "execution_count": 34,
     "metadata": {},
     "output_type": "execute_result"
    }
   ],
   "source": [
    "# Zähle alle Personen in der Gruppe\n",
    "group1.count()"
   ],
   "metadata": {
    "collapsed": false,
    "pycharm": {
     "name": "#%%\n"
    }
   }
  },
  {
   "cell_type": "code",
   "execution_count": 35,
   "outputs": [
    {
     "data": {
      "text/plain": "Female    68\nMale      63\nName: gender, dtype: int64"
     },
     "execution_count": 35,
     "metadata": {},
     "output_type": "execute_result"
    }
   ],
   "source": [
    "# Zähle Antworten auf die Frage nach dem Geschlecht\n",
    "group1['gender'].value_counts()"
   ],
   "metadata": {
    "collapsed": false,
    "pycharm": {
     "name": "#%%\n"
    }
   }
  },
  {
   "cell_type": "code",
   "execution_count": 36,
   "outputs": [
    {
     "data": {
      "text/plain": "gender                  Male  Female\nd12de                               \nSchleswig-Holstein       2.0     6.0\nHamburg                  3.0     4.0\nNiedersachsen            5.0     4.0\nBremen                   NaN     1.0\nNordrhein-Westfalen      6.0     9.0\nHessen                   3.0     3.0\nRheinland-Pfalz          3.0     3.0\nBaden-Wurttemberg       11.0    11.0\nBayern                  12.0    10.0\nSaarland                 2.0     1.0\nBerlin                   3.0     1.0\nBrandenburg              NaN     4.0\nMecklenburg-Vorpommern   1.0     2.0\nSachsen                  8.0     3.0\nSachsen-Anhalt           1.0     4.0\nThuringen                3.0     2.0",
      "text/html": "<div>\n<style scoped>\n    .dataframe tbody tr th:only-of-type {\n        vertical-align: middle;\n    }\n\n    .dataframe tbody tr th {\n        vertical-align: top;\n    }\n\n    .dataframe thead th {\n        text-align: right;\n    }\n</style>\n<table border=\"1\" class=\"dataframe\">\n  <thead>\n    <tr style=\"text-align: right;\">\n      <th>gender</th>\n      <th>Male</th>\n      <th>Female</th>\n    </tr>\n    <tr>\n      <th>d12de</th>\n      <th></th>\n      <th></th>\n    </tr>\n  </thead>\n  <tbody>\n    <tr>\n      <th>Schleswig-Holstein</th>\n      <td>2.0</td>\n      <td>6.0</td>\n    </tr>\n    <tr>\n      <th>Hamburg</th>\n      <td>3.0</td>\n      <td>4.0</td>\n    </tr>\n    <tr>\n      <th>Niedersachsen</th>\n      <td>5.0</td>\n      <td>4.0</td>\n    </tr>\n    <tr>\n      <th>Bremen</th>\n      <td>NaN</td>\n      <td>1.0</td>\n    </tr>\n    <tr>\n      <th>Nordrhein-Westfalen</th>\n      <td>6.0</td>\n      <td>9.0</td>\n    </tr>\n    <tr>\n      <th>Hessen</th>\n      <td>3.0</td>\n      <td>3.0</td>\n    </tr>\n    <tr>\n      <th>Rheinland-Pfalz</th>\n      <td>3.0</td>\n      <td>3.0</td>\n    </tr>\n    <tr>\n      <th>Baden-Wurttemberg</th>\n      <td>11.0</td>\n      <td>11.0</td>\n    </tr>\n    <tr>\n      <th>Bayern</th>\n      <td>12.0</td>\n      <td>10.0</td>\n    </tr>\n    <tr>\n      <th>Saarland</th>\n      <td>2.0</td>\n      <td>1.0</td>\n    </tr>\n    <tr>\n      <th>Berlin</th>\n      <td>3.0</td>\n      <td>1.0</td>\n    </tr>\n    <tr>\n      <th>Brandenburg</th>\n      <td>NaN</td>\n      <td>4.0</td>\n    </tr>\n    <tr>\n      <th>Mecklenburg-Vorpommern</th>\n      <td>1.0</td>\n      <td>2.0</td>\n    </tr>\n    <tr>\n      <th>Sachsen</th>\n      <td>8.0</td>\n      <td>3.0</td>\n    </tr>\n    <tr>\n      <th>Sachsen-Anhalt</th>\n      <td>1.0</td>\n      <td>4.0</td>\n    </tr>\n    <tr>\n      <th>Thuringen</th>\n      <td>3.0</td>\n      <td>2.0</td>\n    </tr>\n  </tbody>\n</table>\n</div>"
     },
     "execution_count": 36,
     "metadata": {},
     "output_type": "execute_result"
    }
   ],
   "source": [
    "# Ermittle Personenanzahl nach Geschlecht und Bundesland\n",
    "pd.crosstab(group1['d12de'], group1['gender'], group1['gender'], aggfunc='count')"
   ],
   "metadata": {
    "collapsed": false,
    "pycharm": {
     "name": "#%%\n"
    }
   }
  },
  {
   "cell_type": "code",
   "execution_count": 37,
   "outputs": [
    {
     "data": {
      "text/plain": "gender     Male  Female\nq3                     \nAlways     5367   10461\nOften      2413    3344\nSometimes   993    1330\nRarely      794     812\nNever       508     386\nDK/NA        94      99",
      "text/html": "<div>\n<style scoped>\n    .dataframe tbody tr th:only-of-type {\n        vertical-align: middle;\n    }\n\n    .dataframe tbody tr th {\n        vertical-align: top;\n    }\n\n    .dataframe thead th {\n        text-align: right;\n    }\n</style>\n<table border=\"1\" class=\"dataframe\">\n  <thead>\n    <tr style=\"text-align: right;\">\n      <th>gender</th>\n      <th>Male</th>\n      <th>Female</th>\n    </tr>\n    <tr>\n      <th>q3</th>\n      <th></th>\n      <th></th>\n    </tr>\n  </thead>\n  <tbody>\n    <tr>\n      <th>Always</th>\n      <td>5367</td>\n      <td>10461</td>\n    </tr>\n    <tr>\n      <th>Often</th>\n      <td>2413</td>\n      <td>3344</td>\n    </tr>\n    <tr>\n      <th>Sometimes</th>\n      <td>993</td>\n      <td>1330</td>\n    </tr>\n    <tr>\n      <th>Rarely</th>\n      <td>794</td>\n      <td>812</td>\n    </tr>\n    <tr>\n      <th>Never</th>\n      <td>508</td>\n      <td>386</td>\n    </tr>\n    <tr>\n      <th>DK/NA</th>\n      <td>94</td>\n      <td>99</td>\n    </tr>\n  </tbody>\n</table>\n</div>"
     },
     "execution_count": 37,
     "metadata": {},
     "output_type": "execute_result"
    }
   ],
   "source": [
    "# Übung: Daten analysieren\n",
    "\n",
    "# Finde Antworten zu Frage Q3 nach Geschlecht (Frage D2)\n",
    "pd.crosstab(data['q3'], data['gender'], data['gender'], aggfunc='count')"
   ],
   "metadata": {
    "collapsed": false,
    "pycharm": {
     "name": "#%%\n"
    }
   }
  },
  {
   "cell_type": "code",
   "execution_count": 38,
   "outputs": [
    {
     "data": {
      "text/plain": "Female    16432\nMale      10169\nName: gender, dtype: int64"
     },
     "execution_count": 38,
     "metadata": {},
     "output_type": "execute_result"
    }
   ],
   "source": [
    "# Finde Anzahl an Antwortenden nach Geschlecht (Frage D2)\n",
    "data['gender'].value_counts()"
   ],
   "metadata": {
    "collapsed": false,
    "pycharm": {
     "name": "#%%\n"
    }
   }
  },
  {
   "cell_type": "code",
   "execution_count": 39,
   "outputs": [
    {
     "name": "stdout",
     "output_type": "stream",
     "text": [
      "Percentage of females:\n",
      "63.662366114897765\n",
      "Percentage of males:\n",
      "52.77805093912873\n"
     ]
    }
   ],
   "source": [
    "# Rechne Verhältnis der Antworten aus\n",
    "\n",
    "females = 10461/16432*100\n",
    "males = 5367/10169*100\n",
    "\n",
    "print('Percentage of females:')\n",
    "print(females)\n",
    "print('Percentage of males:')\n",
    "print(males)"
   ],
   "metadata": {
    "collapsed": false,
    "pycharm": {
     "name": "#%%\n"
    }
   }
  },
  {
   "cell_type": "markdown",
   "source": [],
   "metadata": {
    "collapsed": false,
    "pycharm": {
     "name": "#%% md\n"
    }
   }
  },
  {
   "cell_type": "markdown",
   "source": [
    "# Das ist eine große Überschrift\n",
    "\n",
    "Hier erkläre ich etwas. Und dieser Text ist **fett**.\n",
    "\n",
    "Liste mit Früchten:\n",
    " - Apfel\n",
    " - Birne\n",
    " - Traube"
   ],
   "metadata": {
    "collapsed": false,
    "pycharm": {
     "name": "#%% md\n"
    }
   }
  },
  {
   "cell_type": "code",
   "execution_count": 40,
   "outputs": [
    {
     "data": {
      "text/plain": "Nordrhein-Westfalen       185\nBayern                    169\nBaden-Wurttemberg         126\nNiedersachsen              83\nHessen                     65\nSachsen                    61\nRheinland-Pfalz            42\nThuringen                  41\nBrandenburg                40\nSchleswig-Holstein         40\nSachsen-Anhalt             39\nBerlin                     39\nHamburg                    26\nMecklenburg-Vorpommern     20\nSaarland                   17\nBremen                      7\nName: d12de, dtype: int64"
     },
     "execution_count": 40,
     "metadata": {},
     "output_type": "execute_result"
    }
   ],
   "source": [
    "# Berechne Anzahl der Antworten nach Bundesland\n",
    "\n",
    "answers_per_state = data[data['isocntry']=='DE']['d12de'].value_counts()\n",
    "answers_per_state"
   ],
   "metadata": {
    "collapsed": false,
    "pycharm": {
     "name": "#%%\n"
    }
   }
  },
  {
   "cell_type": "code",
   "execution_count": 41,
   "outputs": [
    {
     "data": {
      "text/plain": "<AxesSubplot:>"
     },
     "execution_count": 41,
     "metadata": {},
     "output_type": "execute_result"
    },
    {
     "data": {
      "text/plain": "<Figure size 432x288 with 1 Axes>",
      "image/png": "[encoded data removed]"
     },
     "metadata": {
      "needs_background": "light"
     },
     "output_type": "display_data"
    }
   ],
   "source": [
    "# Plotte ein Säulendiagramm direkt aus pandas heraus\n",
    "\n",
    "answers_per_state.plot.bar()"
   ],
   "metadata": {
    "collapsed": false,
    "pycharm": {
     "name": "#%%\n"
    }
   }
  },
  {
   "cell_type": "code",
   "execution_count": 42,
   "outputs": [
    {
     "data": {
      "text/plain": "<Figure size 432x288 with 1 Axes>",
      "image/png": "[encoded data removed]"
     },
     "metadata": {
      "needs_background": "light"
     },
     "output_type": "display_data"
    }
   ],
   "source": [
    "# Plot um 90 Grad rotieren und Titel hinzufügen\n",
    "\n",
    "ax = answers_per_state.plot.barh(title='Antworten in Deutschland pro Bundesland')\n",
    "ax.invert_yaxis()"
   ],
   "metadata": {
    "collapsed": false,
    "pycharm": {
     "name": "#%%\n"
    }
   }
  },
  {
   "cell_type": "code",
   "execution_count": 43,
   "outputs": [],
   "source": [
    "# Plot als Bilddatei speichern\n",
    "\n",
    "fig = ax.get_figure()\n",
    "fig.savefig('plot.png', dpi=150, facecolor='white', bbox_inches = \"tight\")"
   ],
   "metadata": {
    "collapsed": false,
    "pycharm": {
     "name": "#%%\n"
    }
   }
  },
  {
   "cell_type": "code",
   "execution_count": 44,
   "outputs": [
    {
     "data": {
      "text/plain": "Always       527\nOften        234\nSometimes     91\nRarely        86\nNever         45\nDK/NA         17\nName: q3, dtype: int64"
     },
     "execution_count": 44,
     "metadata": {},
     "output_type": "execute_result"
    }
   ],
   "source": [
    "# Berechne Anzahl der Antworten nach Bundesland\n",
    "\n",
    "expiry_date_attention = data[data['isocntry']=='DE']['q3'].value_counts()\n",
    "expiry_date_attention"
   ],
   "metadata": {
    "collapsed": false,
    "pycharm": {
     "name": "#%%\n"
    }
   }
  },
  {
   "cell_type": "code",
   "execution_count": 45,
   "outputs": [
    {
     "data": {
      "text/plain": "<Figure size 432x288 with 1 Axes>",
      "image/png": "[encoded data removed]"
     },
     "metadata": {},
     "output_type": "display_data"
    }
   ],
   "source": [
    "# Plotte ein Kreisdiagramm direkt aus pandas heraus\n",
    "\n",
    "ax = expiry_date_attention.plot.pie(title='Beachten des Verfallsdatums beim Kauf', ylabel='')"
   ],
   "metadata": {
    "collapsed": false,
    "pycharm": {
     "name": "#%%\n"
    }
   }
  },
  {
   "cell_type": "code",
   "execution_count": 46,
   "outputs": [],
   "source": [
    "# Speichere den Plot als pdf-Datei\n",
    "\n",
    "fig = ax.get_figure()\n",
    "fig.savefig('verfallsdatum_beachten_deutschland.pdf', dpi=150, facecolor='white', bbox_inches = \"tight\")"
   ],
   "metadata": {
    "collapsed": false,
    "pycharm": {
     "name": "#%%\n"
    }
   }
  },
  {
   "cell_type": "code",
   "execution_count": 47,
   "outputs": [
    {
     "ename": "ValueError",
     "evalue": "Unable to parse string \"15 years\" at position 89",
     "output_type": "error",
     "traceback": [
      "\u001B[0;31m---------------------------------------------------------------------------\u001B[0m",
      "\u001B[0;31mValueError\u001B[0m                                Traceback (most recent call last)",
      "\u001B[0;32mpandas/_libs/lib.pyx\u001B[0m in \u001B[0;36mpandas._libs.lib.maybe_convert_numeric\u001B[0;34m()\u001B[0m\n",
      "\u001B[0;31mValueError\u001B[0m: Unable to parse string \"15 years\"",
      "\nDuring handling of the above exception, another exception occurred:\n",
      "\u001B[0;31mValueError\u001B[0m                                Traceback (most recent call last)",
      "\u001B[0;32m<ipython-input-47-30400d547a36>\u001B[0m in \u001B[0;36m<module>\u001B[0;34m\u001B[0m\n\u001B[1;32m      1\u001B[0m \u001B[0;31m# Altersspalte umwandeln\u001B[0m\u001B[0;34m\u001B[0m\u001B[0;34m\u001B[0m\u001B[0;34m\u001B[0m\u001B[0m\n\u001B[1;32m      2\u001B[0m \u001B[0;34m\u001B[0m\u001B[0m\n\u001B[0;32m----> 3\u001B[0;31m \u001B[0mpd\u001B[0m\u001B[0;34m.\u001B[0m\u001B[0mto_numeric\u001B[0m\u001B[0;34m(\u001B[0m\u001B[0mdata\u001B[0m\u001B[0;34m[\u001B[0m\u001B[0;34m'age'\u001B[0m\u001B[0;34m]\u001B[0m\u001B[0;34m)\u001B[0m\u001B[0;34m\u001B[0m\u001B[0;34m\u001B[0m\u001B[0m\n\u001B[0m",
      "\u001B[0;32m/opt/anaconda3/envs/biz_analytics_a/lib/python3.8/site-packages/pandas/core/tools/numeric.py\u001B[0m in \u001B[0;36mto_numeric\u001B[0;34m(arg, errors, downcast)\u001B[0m\n\u001B[1;32m    150\u001B[0m         \u001B[0mcoerce_numeric\u001B[0m \u001B[0;34m=\u001B[0m \u001B[0merrors\u001B[0m \u001B[0;32mnot\u001B[0m \u001B[0;32min\u001B[0m \u001B[0;34m(\u001B[0m\u001B[0;34m\"ignore\"\u001B[0m\u001B[0;34m,\u001B[0m \u001B[0;34m\"raise\"\u001B[0m\u001B[0;34m)\u001B[0m\u001B[0;34m\u001B[0m\u001B[0;34m\u001B[0m\u001B[0m\n\u001B[1;32m    151\u001B[0m         \u001B[0;32mtry\u001B[0m\u001B[0;34m:\u001B[0m\u001B[0;34m\u001B[0m\u001B[0;34m\u001B[0m\u001B[0m\n\u001B[0;32m--> 152\u001B[0;31m             values = lib.maybe_convert_numeric(\n\u001B[0m\u001B[1;32m    153\u001B[0m                 \u001B[0mvalues\u001B[0m\u001B[0;34m,\u001B[0m \u001B[0mset\u001B[0m\u001B[0;34m(\u001B[0m\u001B[0;34m)\u001B[0m\u001B[0;34m,\u001B[0m \u001B[0mcoerce_numeric\u001B[0m\u001B[0;34m=\u001B[0m\u001B[0mcoerce_numeric\u001B[0m\u001B[0;34m\u001B[0m\u001B[0;34m\u001B[0m\u001B[0m\n\u001B[1;32m    154\u001B[0m             )\n",
      "\u001B[0;32mpandas/_libs/lib.pyx\u001B[0m in \u001B[0;36mpandas._libs.lib.maybe_convert_numeric\u001B[0;34m()\u001B[0m\n",
      "\u001B[0;31mValueError\u001B[0m: Unable to parse string \"15 years\" at position 89"
     ]
    }
   ],
   "source": [
    "# Altersspalte umwandeln\n",
    "\n",
    "pd.to_numeric(data['age'])"
   ],
   "metadata": {
    "collapsed": false,
    "pycharm": {
     "name": "#%%\n"
    }
   }
  },
  {
   "cell_type": "code",
   "execution_count": null,
   "outputs": [],
   "source": [
    "# Altersspalte umwandeln und Text ignorieren\n",
    "\n",
    "pd.to_numeric(data['age'], errors='coerce')"
   ],
   "metadata": {
    "collapsed": false,
    "pycharm": {
     "name": "#%%\n"
    }
   }
  },
  {
   "cell_type": "code",
   "execution_count": null,
   "outputs": [],
   "source": [
    "# Altersspalte umwandeln, Text ignorieren, und neue Spalte schreiben\n",
    "\n",
    "data['age_number'] = pd.to_numeric(data['age'], errors='coerce')"
   ],
   "metadata": {
    "collapsed": false,
    "pycharm": {
     "name": "#%%\n"
    }
   }
  },
  {
   "cell_type": "code",
   "execution_count": null,
   "outputs": [],
   "source": [
    "# Altersverteilung mit Seaborn plotten\n",
    "\n",
    "import seaborn as sns\n",
    "\n",
    "sns.displot(data, x='age_number')"
   ],
   "metadata": {
    "collapsed": false,
    "pycharm": {
     "name": "#%%\n"
    }
   }
  },
  {
   "cell_type": "code",
   "execution_count": null,
   "outputs": [],
   "source": [
    "# Bins vergrößern\n",
    "sns.displot(data, x='age_number', binwidth=5)"
   ],
   "metadata": {
    "collapsed": false,
    "pycharm": {
     "name": "#%%\n"
    }
   }
  },
  {
   "cell_type": "code",
   "execution_count": null,
   "outputs": [],
   "source": [
    "# Nach Antwort auf Frage q6 einfärben\n",
    "sns.displot(data, x='age_number', binwidth=5, hue='q6')"
   ],
   "metadata": {
    "collapsed": false,
    "pycharm": {
     "name": "#%%\n"
    }
   }
  },
  {
   "cell_type": "code",
   "execution_count": null,
   "outputs": [],
   "source": [
    "# Plot verschönern\n",
    "sns.displot(data, x='age_number', binwidth=5, hue='q6', element='step')\\\n",
    "    .set(title='Welche Altersklasse würde MHDs auf schwer verderblichen Lebensmitteln vermissen?',\n",
    "         xlabel='Alter',\n",
    "         ylabel='Anzahl von Antworten')"
   ],
   "metadata": {
    "collapsed": false,
    "pycharm": {
     "name": "#%%\n"
    }
   }
  },
  {
   "cell_type": "code",
   "execution_count": null,
   "outputs": [],
   "source": [
    "# Legende bearbeiten anhand von StackOverflow-Antwort https://stackoverflow.com/a/55108651\n",
    "import matplotlib.pyplot as plt\n",
    "\n",
    "g = sns.displot(data, x='age_number', binwidth=5, hue='q6', element='step', legend=False)\\\n",
    "    .set(title='Welche Altersklasse würde MHDs auf schwer verderblichen Lebensmitteln vermissen?',\n",
    "         xlabel='Alter',\n",
    "         ylabel='Anzahl von Antworten')\n",
    "\n",
    "plt.legend(title='Antworten', loc='upper left', labels=['Ja', 'Nicht gebraucht', 'Weiß nicht'])\n",
    "plt.show(g)\n",
    "g.savefig('tmp.png', dpi=200)"
   ],
   "metadata": {
    "collapsed": false,
    "pycharm": {
     "name": "#%%\n"
    }
   }
  }
 ],
 "metadata": {
  "kernelspec": {
   "display_name": "Python 3",
   "language": "python",
   "name": "python3"
  },
  "language_info": {
   "codemirror_mode": {
    "name": "ipython",
    "version": 2
   },
   "file_extension": ".py",
   "mimetype": "text/x-python",
   "name": "python",
   "nbconvert_exporter": "python",
   "pygments_lexer": "ipython2",
   "version": "2.7.6"
  }
 },
 "nbformat": 4,
 "nbformat_minor": 0
}